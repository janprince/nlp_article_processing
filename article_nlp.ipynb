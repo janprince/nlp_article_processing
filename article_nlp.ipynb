{
 "cells": [
  {
   "cell_type": "markdown",
   "source": [
    "## Getting Human Language Data"
   ],
   "metadata": {
    "collapsed": false,
    "pycharm": {
     "name": "#%% md\n"
    }
   }
  },
  {
   "cell_type": "code",
   "execution_count": null,
   "outputs": [],
   "source": [
    "import requests\n",
    "from bs4 import BeautifulSoup\n",
    "\n",
    "def request():\n",
    "    url = \"https://www.history.com/topics/inventions/nikola-tesla\"\n",
    "    r = requests.get(url)\n",
    "    text = r.text\n",
    "\n",
    "    # create a beautiful soup object\n",
    "    soup = BeautifulSoup(text, \"html.parser\")\n",
    "\n",
    "    return soup\n"
   ],
   "metadata": {
    "collapsed": false,
    "pycharm": {
     "name": "#%%\n"
    }
   }
  },
  {
   "cell_type": "code",
   "execution_count": 11,
   "outputs": [
    {
     "name": "stdout",
     "output_type": "stream",
     "text": [
      "('Nikola Tesla', 'Serbian-American engineer and physicist Nikola Tesla (1856-1943) made dozens of breakthroughs in the production, transmission and application of electric power. He invented the first alternating current (AC) motor and developed AC generation and transmission technology. Though he was famous and respected, he was never able to translate his copious inventions into long-term financial success—unlike his early employer and chief rival, Thomas Edison.Nikola Tesla’s Early Years     Nikola Tesla was born in 1856 in Smiljan, Croatia, then part of the Austro-Hungarian Empire. His father was a priest in the Serbian Orthodox church and his mother managed the family’s farm. In 1863 Tesla’s brother Daniel was killed in a riding accident. The shock of the loss unsettled the 7-year-old Tesla, who reported seeing visions—the first signs of his lifelong mental illnesses.Did you know? During the 1890s Mark Twain struck up a friendship with inventor Nikola Tesla. Twain often visited him in his lab, where in 1894 Tesla photographed the great American writer in one of the first pictures ever lit by phosphorescent light.Tesla studied math and physics at the Technical University of Graz and philosophy at the University of Prague. In 1882, while on a walk, he came up with the idea for a brushless AC motor, making the first sketches of its rotating electromagnets in the sand of the path. Later that year he moved to Paris and got a job repairing direct current (DC) power plants with the Continental Edison Company. Two years later he immigrated to the United States.Nikola Tesla and Thomas Edison     Tesla arrived in New York in 1884 and was hired as an engineer at Thomas Edison’s Manhattan headquarters. He worked there for a year, impressing Edison with his diligence and ingenuity. At one point Edison told Tesla he would pay $50,000 for an improved design for his DC dynamos. After months of experimentation, Tesla presented a solution and asked for the money. Edison demurred, saying, “Tesla, you don’t understand our American humor.” Tesla quit soon after.Nikola Tesla and Westinghouse     After an unsuccessful attempt to start his own Tesla Electric Light Company and a stint digging ditches for $2 a day, Tesla found backers to support his research into alternating current. In 1887 and 1888 he was granted more than 30 patents for his inventions and invited to address the American Institute of Electrical Engineers on his work. His lecture caught the attention of George Westinghouse, the inventor who had launched the first AC power system near Boston and was Edison’s major competitor in the “Battle of the Currents.”Scroll to ContinueRecommended for you1970Young Lords occupy Lincoln Hospital in the BronxWhat Was Life Like in Ancient Babylon?7 Mysterious Mass Illnesses That Defied ExplanationWestinghouse hired Tesla, licensed the patents for his AC motor and gave him his own lab. In 1890 Edison arranged for a convicted New York murderer to be put to death in an AC-powered electric chair—a stunt designed to show how dangerous the Westinghouse standard could be.Buoyed by Westinghouse’s royalties, Tesla struck out on his own again. But Westinghouse was soon forced by his backers to renegotiate their contract, with Tesla relinquishing his royalty rights.In the 1890s Tesla invented electric oscillators, meters, improved lights and the high-voltage transformer known as the Tesla coil. He also experimented with X-rays, gave short-range demonstrations of radio communication two years before Guglielmo Marconi and piloted a radio-controlled boat around a pool in Madison Square Garden. Together, Tesla and Westinghouse lit the 1893 World’s Columbian Exposition in Chicago and partnered with General Electric to install AC generators at Niagara Falls, creating the first modern power station.Nikola Tesla’s Failures, Death and Legacy     In 1895 Tesla’s New York lab burned, destroying years’ worth of notes and equipment. Tesla relocated to Colorado Springs for two years, returning to New York in 1900. He secured backing from financier J.P. Morgan and began building a global communications network centered on a giant tower at Wardenclyffe, on Long Island. But funds ran out and Morgan balked at Tesla’s grandiose schemes.Tesla lived his last decades in a New York hotel, working on new inventions even as his energy and mental health faded. His obsession with the number three and fastidious washing were dismissed as the eccentricities of genius. He spent his final years feeding—and, he claimed, communicating with—the city’s pigeons.Tesla died in his room on January 7, 1943. Later that year the U.S. Supreme Court voided four of Marconi’s key patents, belatedly acknowledging Tesla’s innovations in radio. The AC system he championed and improved remains the global standard for power transmission.')\n"
     ]
    }
   ],
   "source": [
    "def scrape_info(soup):\n",
    "    \"\"\"\n",
    "    :param soup: Beautiful soup object\n",
    "    :return:\n",
    "    \"\"\"\n",
    "    article_title = soup.find(\"h1\", class_=\"m-detail-header--title\")\n",
    "    article_title = article_title.text\n",
    "\n",
    "    article_body = soup.find(\"div\", class_=\"m-detail--body\")\n",
    "    article_body.find(\"aside\").decompose()\n",
    "    article_body = article_body.text\n",
    "\n",
    "    return article_title, article_body\n",
    "\n",
    "print(scrape_info(request()))"
   ],
   "metadata": {
    "collapsed": false,
    "pycharm": {
     "name": "#%%\n"
    }
   }
  },
  {
   "cell_type": "markdown",
   "source": [
    "## Fundamental NLP tasks"
   ],
   "metadata": {
    "collapsed": false,
    "pycharm": {
     "name": "#%% md\n"
    }
   }
  },
  {
   "cell_type": "code",
   "execution_count": null,
   "outputs": [],
   "source": [],
   "metadata": {
    "collapsed": false,
    "pycharm": {
     "name": "#%%\n"
    }
   }
  }
 ],
 "metadata": {
  "kernelspec": {
   "display_name": "Python 3",
   "language": "python",
   "name": "python3"
  },
  "language_info": {
   "codemirror_mode": {
    "name": "ipython",
    "version": 2
   },
   "file_extension": ".py",
   "mimetype": "text/x-python",
   "name": "python",
   "nbconvert_exporter": "python",
   "pygments_lexer": "ipython2",
   "version": "2.7.6"
  }
 },
 "nbformat": 4,
 "nbformat_minor": 0
}