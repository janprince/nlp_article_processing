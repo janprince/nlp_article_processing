{
 "cells": [
  {
   "cell_type": "markdown",
   "source": [
    "## Getting Human Language Data"
   ],
   "metadata": {
    "collapsed": false,
    "pycharm": {
     "name": "#%% md\n"
    }
   }
  },
  {
   "cell_type": "markdown",
   "source": [
    "Here, we use an article on Nikola Tesla from history.com"
   ],
   "metadata": {
    "collapsed": false,
    "pycharm": {
     "name": "#%% md\n"
    }
   }
  },
  {
   "cell_type": "code",
   "execution_count": null,
   "outputs": [],
   "source": [
    "import requests\n",
    "from bs4 import BeautifulSoup\n",
    "\n",
    "def request():\n",
    "    url = \"https://www.history.com/topics/inventions/nikola-tesla\"\n",
    "    r = requests.get(url)\n",
    "    text = r.text\n",
    "\n",
    "    # create a beautiful soup object\n",
    "    soup = BeautifulSoup(text, \"html.parser\")\n",
    "\n",
    "    return soup\n"
   ],
   "metadata": {
    "collapsed": false,
    "pycharm": {
     "name": "#%%\n"
    }
   }
  },
  {
   "cell_type": "code",
   "execution_count": 11,
   "outputs": [
    {
     "name": "stdout",
     "output_type": "stream",
     "text": [
      "('Nikola Tesla', 'Serbian-American engineer and physicist Nikola Tesla (1856-1943) made dozens of breakthroughs in the production, transmission and application of electric power. He invented the first alternating current (AC) motor and developed AC generation and transmission technology. Though he was famous and respected, he was never able to translate his copious inventions into long-term financial success—unlike his early employer and chief rival, Thomas Edison.Nikola Tesla’s Early Years     Nikola Tesla was born in 1856 in Smiljan, Croatia, then part of the Austro-Hungarian Empire. His father was a priest in the Serbian Orthodox church and his mother managed the family’s farm. In 1863 Tesla’s brother Daniel was killed in a riding accident. The shock of the loss unsettled the 7-year-old Tesla, who reported seeing visions—the first signs of his lifelong mental illnesses.Did you know? During the 1890s Mark Twain struck up a friendship with inventor Nikola Tesla. Twain often visited him in his lab, where in 1894 Tesla photographed the great American writer in one of the first pictures ever lit by phosphorescent light.Tesla studied math and physics at the Technical University of Graz and philosophy at the University of Prague. In 1882, while on a walk, he came up with the idea for a brushless AC motor, making the first sketches of its rotating electromagnets in the sand of the path. Later that year he moved to Paris and got a job repairing direct current (DC) power plants with the Continental Edison Company. Two years later he immigrated to the United States.Nikola Tesla and Thomas Edison     Tesla arrived in New York in 1884 and was hired as an engineer at Thomas Edison’s Manhattan headquarters. He worked there for a year, impressing Edison with his diligence and ingenuity. At one point Edison told Tesla he would pay $50,000 for an improved design for his DC dynamos. After months of experimentation, Tesla presented a solution and asked for the money. Edison demurred, saying, “Tesla, you don’t understand our American humor.” Tesla quit soon after.Nikola Tesla and Westinghouse     After an unsuccessful attempt to start his own Tesla Electric Light Company and a stint digging ditches for $2 a day, Tesla found backers to support his research into alternating current. In 1887 and 1888 he was granted more than 30 patents for his inventions and invited to address the American Institute of Electrical Engineers on his work. His lecture caught the attention of George Westinghouse, the inventor who had launched the first AC power system near Boston and was Edison’s major competitor in the “Battle of the Currents.”Scroll to ContinueRecommended for you1970Young Lords occupy Lincoln Hospital in the BronxWhat Was Life Like in Ancient Babylon?7 Mysterious Mass Illnesses That Defied ExplanationWestinghouse hired Tesla, licensed the patents for his AC motor and gave him his own lab. In 1890 Edison arranged for a convicted New York murderer to be put to death in an AC-powered electric chair—a stunt designed to show how dangerous the Westinghouse standard could be.Buoyed by Westinghouse’s royalties, Tesla struck out on his own again. But Westinghouse was soon forced by his backers to renegotiate their contract, with Tesla relinquishing his royalty rights.In the 1890s Tesla invented electric oscillators, meters, improved lights and the high-voltage transformer known as the Tesla coil. He also experimented with X-rays, gave short-range demonstrations of radio communication two years before Guglielmo Marconi and piloted a radio-controlled boat around a pool in Madison Square Garden. Together, Tesla and Westinghouse lit the 1893 World’s Columbian Exposition in Chicago and partnered with General Electric to install AC generators at Niagara Falls, creating the first modern power station.Nikola Tesla’s Failures, Death and Legacy     In 1895 Tesla’s New York lab burned, destroying years’ worth of notes and equipment. Tesla relocated to Colorado Springs for two years, returning to New York in 1900. He secured backing from financier J.P. Morgan and began building a global communications network centered on a giant tower at Wardenclyffe, on Long Island. But funds ran out and Morgan balked at Tesla’s grandiose schemes.Tesla lived his last decades in a New York hotel, working on new inventions even as his energy and mental health faded. His obsession with the number three and fastidious washing were dismissed as the eccentricities of genius. He spent his final years feeding—and, he claimed, communicating with—the city’s pigeons.Tesla died in his room on January 7, 1943. Later that year the U.S. Supreme Court voided four of Marconi’s key patents, belatedly acknowledging Tesla’s innovations in radio. The AC system he championed and improved remains the global standard for power transmission.')\n"
     ]
    }
   ],
   "source": [
    "def scrape_info(soup):\n",
    "    \"\"\"\n",
    "    :param soup: Beautiful soup object\n",
    "    :return:\n",
    "    \"\"\"\n",
    "    article_title = soup.find(\"h1\", class_=\"m-detail-header--title\")\n",
    "    article_title = article_title.text\n",
    "\n",
    "    article_body = soup.find(\"div\", class_=\"m-detail--body\")\n",
    "    article_body.find(\"aside\").decompose()\n",
    "    article_body = article_body.text\n",
    "\n",
    "    return article_title, article_body\n",
    "\n",
    "print(scrape_info(request()))"
   ],
   "metadata": {
    "collapsed": false,
    "pycharm": {
     "name": "#%%\n"
    }
   }
  },
  {
   "cell_type": "code",
   "execution_count": 34,
   "outputs": [
    {
     "name": "stderr",
     "output_type": "stream",
     "text": [
      "[nltk_data] Downloading package averaged_perceptron_tagger to\n",
      "[nltk_data]     C:\\Users\\HP\\AppData\\Roaming\\nltk_data...\n",
      "[nltk_data]   Unzipping taggers\\averaged_perceptron_tagger.zip.\n"
     ]
    },
    {
     "data": {
      "text/plain": "True"
     },
     "execution_count": 34,
     "metadata": {},
     "output_type": "execute_result"
    }
   ],
   "source": [
    "import nltk\n",
    "nltk.download('averaged_perceptron_tagger')"
   ],
   "metadata": {
    "collapsed": false,
    "pycharm": {
     "name": "#%%\n"
    }
   }
  },
  {
   "cell_type": "markdown",
   "source": [
    "## Tokenizing"
   ],
   "metadata": {
    "collapsed": false,
    "pycharm": {
     "name": "#%% md\n"
    }
   }
  },
  {
   "cell_type": "code",
   "execution_count": 28,
   "outputs": [],
   "source": [
    "from nltk.tokenize import sent_tokenize, word_tokenize\n",
    "\n",
    "# Get data\n",
    "title, article = scrape_info(request())\n",
    "\n",
    "# sent_tokenize() to split up article into sentences:\n",
    "sentences = sent_tokenize(article)\n",
    "\n",
    "# tokenizing by word\n",
    "article_words = word_tokenize(article)"
   ],
   "metadata": {
    "collapsed": false,
    "pycharm": {
     "name": "#%%\n"
    }
   }
  },
  {
   "cell_type": "code",
   "execution_count": 20,
   "outputs": [
    {
     "data": {
      "text/plain": "['Serbian-American engineer and physicist Nikola Tesla (1856-1943) made dozens of breakthroughs in the production, transmission and application of electric power.',\n 'He invented the first alternating current (AC) motor and developed AC generation and transmission technology.',\n 'Though he was famous and respected, he was never able to translate his copious inventions into long-term financial success—unlike his early employer and chief rival, Thomas Edison.Nikola Tesla’s Early Years     Nikola Tesla was born in 1856 in Smiljan, Croatia, then part of the Austro-Hungarian Empire.',\n 'His father was a priest in the Serbian Orthodox church and his mother managed the family’s farm.',\n 'In 1863 Tesla’s brother Daniel was killed in a riding accident.',\n 'The shock of the loss unsettled the 7-year-old Tesla, who reported seeing visions—the first signs of his lifelong mental illnesses.Did you know?',\n 'During the 1890s Mark Twain struck up a friendship with inventor Nikola Tesla.',\n 'Twain often visited him in his lab, where in 1894 Tesla photographed the great American writer in one of the first pictures ever lit by phosphorescent light.Tesla studied math and physics at the Technical University of Graz and philosophy at the University of Prague.',\n 'In 1882, while on a walk, he came up with the idea for a brushless AC motor, making the first sketches of its rotating electromagnets in the sand of the path.',\n 'Later that year he moved to Paris and got a job repairing direct current (DC) power plants with the Continental Edison Company.',\n 'Two years later he immigrated to the United States.Nikola Tesla and Thomas Edison     Tesla arrived in New York in 1884 and was hired as an engineer at Thomas Edison’s Manhattan headquarters.',\n 'He worked there for a year, impressing Edison with his diligence and ingenuity.',\n 'At one point Edison told Tesla he would pay $50,000 for an improved design for his DC dynamos.',\n 'After months of experimentation, Tesla presented a solution and asked for the money.',\n 'Edison demurred, saying, “Tesla, you don’t understand our American humor.” Tesla quit soon after.Nikola Tesla and Westinghouse     After an unsuccessful attempt to start his own Tesla Electric Light Company and a stint digging ditches for $2 a day, Tesla found backers to support his research into alternating current.',\n 'In 1887 and 1888 he was granted more than 30 patents for his inventions and invited to address the American Institute of Electrical Engineers on his work.',\n 'His lecture caught the attention of George Westinghouse, the inventor who had launched the first AC power system near Boston and was Edison’s major competitor in the “Battle of the Currents.”Scroll to ContinueRecommended for you1970Young Lords occupy Lincoln Hospital in the BronxWhat Was Life Like in Ancient Babylon?7 Mysterious Mass Illnesses That Defied ExplanationWestinghouse hired Tesla, licensed the patents for his AC motor and gave him his own lab.',\n 'In 1890 Edison arranged for a convicted New York murderer to be put to death in an AC-powered electric chair—a stunt designed to show how dangerous the Westinghouse standard could be.Buoyed by Westinghouse’s royalties, Tesla struck out on his own again.',\n 'But Westinghouse was soon forced by his backers to renegotiate their contract, with Tesla relinquishing his royalty rights.In the 1890s Tesla invented electric oscillators, meters, improved lights and the high-voltage transformer known as the Tesla coil.',\n 'He also experimented with X-rays, gave short-range demonstrations of radio communication two years before Guglielmo Marconi and piloted a radio-controlled boat around a pool in Madison Square Garden.',\n 'Together, Tesla and Westinghouse lit the 1893 World’s Columbian Exposition in Chicago and partnered with General Electric to install AC generators at Niagara Falls, creating the first modern power station.Nikola Tesla’s Failures, Death and Legacy     In 1895 Tesla’s New York lab burned, destroying years’ worth of notes and equipment.',\n 'Tesla relocated to Colorado Springs for two years, returning to New York in 1900.',\n 'He secured backing from financier J.P. Morgan and began building a global communications network centered on a giant tower at Wardenclyffe, on Long Island.',\n 'But funds ran out and Morgan balked at Tesla’s grandiose schemes.Tesla lived his last decades in a New York hotel, working on new inventions even as his energy and mental health faded.',\n 'His obsession with the number three and fastidious washing were dismissed as the eccentricities of genius.',\n 'He spent his final years feeding—and, he claimed, communicating with—the city’s pigeons.Tesla died in his room on January 7, 1943.',\n 'Later that year the U.S. Supreme Court voided four of Marconi’s key patents, belatedly acknowledging Tesla’s innovations in radio.',\n 'The AC system he championed and improved remains the global standard for power transmission.']"
     },
     "execution_count": 20,
     "metadata": {},
     "output_type": "execute_result"
    }
   ],
   "source": [
    "sentences"
   ],
   "metadata": {
    "collapsed": false,
    "pycharm": {
     "name": "#%%\n"
    }
   }
  },
  {
   "cell_type": "markdown",
   "source": [
    "## Filtering Stop Words\n",
    "Stop words are words that you want to ignore, so you filter them out of your text when you’re processing it. Very common words like 'in', 'is', and 'an' are often used as stop words since they don’t add a lot of meaning to a text in and of themselves."
   ],
   "metadata": {
    "collapsed": false,
    "pycharm": {
     "name": "#%% md\n"
    }
   }
  },
  {
   "cell_type": "code",
   "execution_count": 30,
   "outputs": [
    {
     "name": "stdout",
     "output_type": "stream",
     "text": [
      "['Serbian-American', 'engineer', 'physicist', 'Nikola', 'Tesla', '(', '1856-1943', ')', 'made', 'dozens', 'breakthroughs', 'production', ',', 'transmission', 'application', 'electric', 'power', '.', 'He', 'invented', 'first', 'alternating', 'current', '(', 'AC', ')', 'motor', 'developed', 'AC', 'generation', 'transmission', 'technology', '.', 'Though', 'famous', 'respected', ',', 'never', 'able', 'translate', 'copious', 'inventions', 'long-term', 'financial', 'success—unlike', 'early', 'employer', 'chief', 'rival', ',', 'Thomas', 'Edison.Nikola', 'Tesla', '’', 'Early', 'Years', 'Nikola', 'Tesla', 'born', '1856', 'Smiljan', ',', 'Croatia', ',', 'part', 'Austro-Hungarian', 'Empire', '.', 'His', 'father', 'priest', 'Serbian', 'Orthodox', 'church', 'mother', 'managed', 'family', '’', 'farm', '.', 'In', '1863', 'Tesla', '’', 'brother', 'Daniel', 'killed', 'riding', 'accident', '.', 'The', 'shock', 'loss', 'unsettled', '7-year-old', 'Tesla', ',', 'reported', 'seeing', 'visions—the', 'first', 'signs', 'lifelong', 'mental', 'illnesses.Did', 'know', '?', 'During', '1890s', 'Mark', 'Twain', 'struck', 'friendship', 'inventor', 'Nikola', 'Tesla', '.', 'Twain', 'often', 'visited', 'lab', ',', '1894', 'Tesla', 'photographed', 'great', 'American', 'writer', 'one', 'first', 'pictures', 'ever', 'lit', 'phosphorescent', 'light.Tesla', 'studied', 'math', 'physics', 'Technical', 'University', 'Graz', 'philosophy', 'University', 'Prague', '.', 'In', '1882', ',', 'walk', ',', 'came', 'idea', 'brushless', 'AC', 'motor', ',', 'making', 'first', 'sketches', 'rotating', 'electromagnets', 'sand', 'path', '.', 'Later', 'year', 'moved', 'Paris', 'got', 'job', 'repairing', 'direct', 'current', '(', 'DC', ')', 'power', 'plants', 'Continental', 'Edison', 'Company', '.', 'Two', 'years', 'later', 'immigrated', 'United', 'States.Nikola', 'Tesla', 'Thomas', 'Edison', 'Tesla', 'arrived', 'New', 'York', '1884', 'hired', 'engineer', 'Thomas', 'Edison', '’', 'Manhattan', 'headquarters', '.', 'He', 'worked', 'year', ',', 'impressing', 'Edison', 'diligence', 'ingenuity', '.', 'At', 'one', 'point', 'Edison', 'told', 'Tesla', 'would', 'pay', '$', '50,000', 'improved', 'design', 'DC', 'dynamos', '.', 'After', 'months', 'experimentation', ',', 'Tesla', 'presented', 'solution', 'asked', 'money', '.', 'Edison', 'demurred', ',', 'saying', ',', '“', 'Tesla', ',', '’', 'understand', 'American', 'humor.', '”', 'Tesla', 'quit', 'soon', 'after.Nikola', 'Tesla', 'Westinghouse', 'After', 'unsuccessful', 'attempt', 'start', 'Tesla', 'Electric', 'Light', 'Company', 'stint', 'digging', 'ditches', '$', '2', 'day', ',', 'Tesla', 'found', 'backers', 'support', 'research', 'alternating', 'current', '.', 'In', '1887', '1888', 'granted', '30', 'patents', 'inventions', 'invited', 'address', 'American', 'Institute', 'Electrical', 'Engineers', 'work', '.', 'His', 'lecture', 'caught', 'attention', 'George', 'Westinghouse', ',', 'inventor', 'launched', 'first', 'AC', 'power', 'system', 'near', 'Boston', 'Edison', '’', 'major', 'competitor', '“', 'Battle', 'Currents.', '”', 'Scroll', 'ContinueRecommended', 'you1970Young', 'Lords', 'occupy', 'Lincoln', 'Hospital', 'BronxWhat', 'Was', 'Life', 'Like', 'Ancient', 'Babylon', '?', '7', 'Mysterious', 'Mass', 'Illnesses', 'That', 'Defied', 'ExplanationWestinghouse', 'hired', 'Tesla', ',', 'licensed', 'patents', 'AC', 'motor', 'gave', 'lab', '.', 'In', '1890', 'Edison', 'arranged', 'convicted', 'New', 'York', 'murderer', 'put', 'death', 'AC-powered', 'electric', 'chair—a', 'stunt', 'designed', 'show', 'dangerous', 'Westinghouse', 'standard', 'could', 'be.Buoyed', 'Westinghouse', '’', 'royalties', ',', 'Tesla', 'struck', '.', 'But', 'Westinghouse', 'soon', 'forced', 'backers', 'renegotiate', 'contract', ',', 'Tesla', 'relinquishing', 'royalty', 'rights.In', '1890s', 'Tesla', 'invented', 'electric', 'oscillators', ',', 'meters', ',', 'improved', 'lights', 'high-voltage', 'transformer', 'known', 'Tesla', 'coil', '.', 'He', 'also', 'experimented', 'X-rays', ',', 'gave', 'short-range', 'demonstrations', 'radio', 'communication', 'two', 'years', 'Guglielmo', 'Marconi', 'piloted', 'radio-controlled', 'boat', 'around', 'pool', 'Madison', 'Square', 'Garden', '.', 'Together', ',', 'Tesla', 'Westinghouse', 'lit', '1893', 'World', '’', 'Columbian', 'Exposition', 'Chicago', 'partnered', 'General', 'Electric', 'install', 'AC', 'generators', 'Niagara', 'Falls', ',', 'creating', 'first', 'modern', 'power', 'station.Nikola', 'Tesla', '’', 'Failures', ',', 'Death', 'Legacy', 'In', '1895', 'Tesla', '’', 'New', 'York', 'lab', 'burned', ',', 'destroying', 'years', '’', 'worth', 'notes', 'equipment', '.', 'Tesla', 'relocated', 'Colorado', 'Springs', 'two', 'years', ',', 'returning', 'New', 'York', '1900', '.', 'He', 'secured', 'backing', 'financier', 'J.P.', 'Morgan', 'began', 'building', 'global', 'communications', 'network', 'centered', 'giant', 'tower', 'Wardenclyffe', ',', 'Long', 'Island', '.', 'But', 'funds', 'ran', 'Morgan', 'balked', 'Tesla', '’', 'grandiose', 'schemes.Tesla', 'lived', 'last', 'decades', 'New', 'York', 'hotel', ',', 'working', 'new', 'inventions', 'even', 'energy', 'mental', 'health', 'faded', '.', 'His', 'obsession', 'number', 'three', 'fastidious', 'washing', 'dismissed', 'eccentricities', 'genius', '.', 'He', 'spent', 'final', 'years', 'feeding—and', ',', 'claimed', ',', 'communicating', 'with—the', 'city', '’', 'pigeons.Tesla', 'died', 'room', 'January', '7', ',', '1943', '.', 'Later', 'year', 'U.S.', 'Supreme', 'Court', 'voided', 'four', 'Marconi', '’', 'key', 'patents', ',', 'belatedly', 'acknowledging', 'Tesla', '’', 'innovations', 'radio', '.', 'The', 'AC', 'system', 'championed', 'improved', 'remains', 'global', 'standard', 'power', 'transmission', '.']\n"
     ]
    }
   ],
   "source": [
    "from nltk.corpus import stopwords\n",
    "\n",
    "# a list of english stop words\n",
    "stop_words = stopwords.words(\"english\")\n",
    "\n",
    "# filter word tokens\n",
    "filtered_words = [word for word in article_words if word not in stop_words]\n",
    "print(filtered_words)"
   ],
   "metadata": {
    "collapsed": false,
    "pycharm": {
     "name": "#%%\n"
    }
   }
  },
  {
   "cell_type": "markdown",
   "source": [
    "## Stemming\n",
    "\n",
    "Stemming is a text processing task in which you reduce words to their root, which is the core part of a word. For example, the words “helping” and “helper” share the root “help.” Stemming allows you to zero in on the basic meaning of a word rather than all the details of how it’s being used. NLTK has more than one stemmer, but you’ll be using the Porter stemmer."
   ],
   "metadata": {
    "collapsed": false,
    "pycharm": {
     "name": "#%% md\n"
    }
   }
  },
  {
   "cell_type": "code",
   "execution_count": 32,
   "outputs": [
    {
     "data": {
      "text/plain": "['serbian-american',\n 'engin',\n 'physicist',\n 'nikola',\n 'tesla',\n '(',\n '1856-1943',\n ')',\n 'made',\n 'dozen',\n 'breakthrough',\n 'product',\n ',',\n 'transmiss',\n 'applic',\n 'electr',\n 'power',\n '.',\n 'he',\n 'invent',\n 'first',\n 'altern',\n 'current',\n '(',\n 'ac',\n ')',\n 'motor',\n 'develop',\n 'ac',\n 'gener',\n 'transmiss',\n 'technolog',\n '.',\n 'though',\n 'famou',\n 'respect',\n ',',\n 'never',\n 'abl',\n 'translat',\n 'copiou',\n 'invent',\n 'long-term',\n 'financi',\n 'success—unlik',\n 'earli',\n 'employ',\n 'chief',\n 'rival',\n ',',\n 'thoma',\n 'edison.nikola',\n 'tesla',\n '’',\n 'earli',\n 'year',\n 'nikola',\n 'tesla',\n 'born',\n '1856',\n 'smiljan',\n ',',\n 'croatia',\n ',',\n 'part',\n 'austro-hungarian',\n 'empir',\n '.',\n 'hi',\n 'father',\n 'priest',\n 'serbian',\n 'orthodox',\n 'church',\n 'mother',\n 'manag',\n 'famili',\n '’',\n 'farm',\n '.',\n 'in',\n '1863',\n 'tesla',\n '’',\n 'brother',\n 'daniel',\n 'kill',\n 'ride',\n 'accid',\n '.',\n 'the',\n 'shock',\n 'loss',\n 'unsettl',\n '7-year-old',\n 'tesla',\n ',',\n 'report',\n 'see',\n 'visions—th',\n 'first',\n 'sign',\n 'lifelong',\n 'mental',\n 'illnesses.did',\n 'know',\n '?',\n 'dure',\n '1890',\n 'mark',\n 'twain',\n 'struck',\n 'friendship',\n 'inventor',\n 'nikola',\n 'tesla',\n '.',\n 'twain',\n 'often',\n 'visit',\n 'lab',\n ',',\n '1894',\n 'tesla',\n 'photograph',\n 'great',\n 'american',\n 'writer',\n 'one',\n 'first',\n 'pictur',\n 'ever',\n 'lit',\n 'phosphoresc',\n 'light.tesla',\n 'studi',\n 'math',\n 'physic',\n 'technic',\n 'univers',\n 'graz',\n 'philosophi',\n 'univers',\n 'pragu',\n '.',\n 'in',\n '1882',\n ',',\n 'walk',\n ',',\n 'came',\n 'idea',\n 'brushless',\n 'ac',\n 'motor',\n ',',\n 'make',\n 'first',\n 'sketch',\n 'rotat',\n 'electromagnet',\n 'sand',\n 'path',\n '.',\n 'later',\n 'year',\n 'move',\n 'pari',\n 'got',\n 'job',\n 'repair',\n 'direct',\n 'current',\n '(',\n 'dc',\n ')',\n 'power',\n 'plant',\n 'continent',\n 'edison',\n 'compani',\n '.',\n 'two',\n 'year',\n 'later',\n 'immigr',\n 'unit',\n 'states.nikola',\n 'tesla',\n 'thoma',\n 'edison',\n 'tesla',\n 'arriv',\n 'new',\n 'york',\n '1884',\n 'hire',\n 'engin',\n 'thoma',\n 'edison',\n '’',\n 'manhattan',\n 'headquart',\n '.',\n 'he',\n 'work',\n 'year',\n ',',\n 'impress',\n 'edison',\n 'dilig',\n 'ingenu',\n '.',\n 'at',\n 'one',\n 'point',\n 'edison',\n 'told',\n 'tesla',\n 'would',\n 'pay',\n '$',\n '50,000',\n 'improv',\n 'design',\n 'dc',\n 'dynamo',\n '.',\n 'after',\n 'month',\n 'experiment',\n ',',\n 'tesla',\n 'present',\n 'solut',\n 'ask',\n 'money',\n '.',\n 'edison',\n 'demur',\n ',',\n 'say',\n ',',\n '“',\n 'tesla',\n ',',\n '’',\n 'understand',\n 'american',\n 'humor.',\n '”',\n 'tesla',\n 'quit',\n 'soon',\n 'after.nikola',\n 'tesla',\n 'westinghous',\n 'after',\n 'unsuccess',\n 'attempt',\n 'start',\n 'tesla',\n 'electr',\n 'light',\n 'compani',\n 'stint',\n 'dig',\n 'ditch',\n '$',\n '2',\n 'day',\n ',',\n 'tesla',\n 'found',\n 'backer',\n 'support',\n 'research',\n 'altern',\n 'current',\n '.',\n 'in',\n '1887',\n '1888',\n 'grant',\n '30',\n 'patent',\n 'invent',\n 'invit',\n 'address',\n 'american',\n 'institut',\n 'electr',\n 'engin',\n 'work',\n '.',\n 'hi',\n 'lectur',\n 'caught',\n 'attent',\n 'georg',\n 'westinghous',\n ',',\n 'inventor',\n 'launch',\n 'first',\n 'ac',\n 'power',\n 'system',\n 'near',\n 'boston',\n 'edison',\n '’',\n 'major',\n 'competitor',\n '“',\n 'battl',\n 'currents.',\n '”',\n 'scroll',\n 'continuerecommend',\n 'you1970young',\n 'lord',\n 'occupi',\n 'lincoln',\n 'hospit',\n 'bronxwhat',\n 'wa',\n 'life',\n 'like',\n 'ancient',\n 'babylon',\n '?',\n '7',\n 'mysteri',\n 'mass',\n 'ill',\n 'that',\n 'defi',\n 'explanationwestinghous',\n 'hire',\n 'tesla',\n ',',\n 'licens',\n 'patent',\n 'ac',\n 'motor',\n 'gave',\n 'lab',\n '.',\n 'in',\n '1890',\n 'edison',\n 'arrang',\n 'convict',\n 'new',\n 'york',\n 'murder',\n 'put',\n 'death',\n 'ac-pow',\n 'electr',\n 'chair—a',\n 'stunt',\n 'design',\n 'show',\n 'danger',\n 'westinghous',\n 'standard',\n 'could',\n 'be.buoy',\n 'westinghous',\n '’',\n 'royalti',\n ',',\n 'tesla',\n 'struck',\n '.',\n 'but',\n 'westinghous',\n 'soon',\n 'forc',\n 'backer',\n 'renegoti',\n 'contract',\n ',',\n 'tesla',\n 'relinquish',\n 'royalti',\n 'rights.in',\n '1890',\n 'tesla',\n 'invent',\n 'electr',\n 'oscil',\n ',',\n 'meter',\n ',',\n 'improv',\n 'light',\n 'high-voltag',\n 'transform',\n 'known',\n 'tesla',\n 'coil',\n '.',\n 'he',\n 'also',\n 'experi',\n 'x-ray',\n ',',\n 'gave',\n 'short-rang',\n 'demonstr',\n 'radio',\n 'commun',\n 'two',\n 'year',\n 'guglielmo',\n 'marconi',\n 'pilot',\n 'radio-control',\n 'boat',\n 'around',\n 'pool',\n 'madison',\n 'squar',\n 'garden',\n '.',\n 'togeth',\n ',',\n 'tesla',\n 'westinghous',\n 'lit',\n '1893',\n 'world',\n '’',\n 'columbian',\n 'exposit',\n 'chicago',\n 'partner',\n 'gener',\n 'electr',\n 'instal',\n 'ac',\n 'gener',\n 'niagara',\n 'fall',\n ',',\n 'creat',\n 'first',\n 'modern',\n 'power',\n 'station.nikola',\n 'tesla',\n '’',\n 'failur',\n ',',\n 'death',\n 'legaci',\n 'in',\n '1895',\n 'tesla',\n '’',\n 'new',\n 'york',\n 'lab',\n 'burn',\n ',',\n 'destroy',\n 'year',\n '’',\n 'worth',\n 'note',\n 'equip',\n '.',\n 'tesla',\n 'reloc',\n 'colorado',\n 'spring',\n 'two',\n 'year',\n ',',\n 'return',\n 'new',\n 'york',\n '1900',\n '.',\n 'he',\n 'secur',\n 'back',\n 'financi',\n 'j.p.',\n 'morgan',\n 'began',\n 'build',\n 'global',\n 'commun',\n 'network',\n 'center',\n 'giant',\n 'tower',\n 'wardenclyff',\n ',',\n 'long',\n 'island',\n '.',\n 'but',\n 'fund',\n 'ran',\n 'morgan',\n 'balk',\n 'tesla',\n '’',\n 'grandios',\n 'schemes.tesla',\n 'live',\n 'last',\n 'decad',\n 'new',\n 'york',\n 'hotel',\n ',',\n 'work',\n 'new',\n 'invent',\n 'even',\n 'energi',\n 'mental',\n 'health',\n 'fade',\n '.',\n 'hi',\n 'obsess',\n 'number',\n 'three',\n 'fastidi',\n 'wash',\n 'dismiss',\n 'eccentr',\n 'geniu',\n '.',\n 'he',\n 'spent',\n 'final',\n 'year',\n 'feeding—and',\n ',',\n 'claim',\n ',',\n 'commun',\n 'with—th',\n 'citi',\n '’',\n 'pigeons.tesla',\n 'die',\n 'room',\n 'januari',\n '7',\n ',',\n '1943',\n '.',\n 'later',\n 'year',\n 'u.s.',\n 'suprem',\n 'court',\n 'void',\n 'four',\n 'marconi',\n '’',\n 'key',\n 'patent',\n ',',\n 'belatedli',\n 'acknowledg',\n 'tesla',\n '’',\n 'innov',\n 'radio',\n '.',\n 'the',\n 'ac',\n 'system',\n 'champion',\n 'improv',\n 'remain',\n 'global',\n 'standard',\n 'power',\n 'transmiss',\n '.']"
     },
     "execution_count": 32,
     "metadata": {},
     "output_type": "execute_result"
    }
   ],
   "source": [
    "from nltk.stem import PorterStemmer\n",
    "\n",
    "# stemming object\n",
    "stemmer = PorterStemmer()\n",
    "\n",
    "# stemmed_words\n",
    "stemmed_words = [stemmer.stem(word) for word in filtered_words]\n",
    "\n",
    "stemmed_words"
   ],
   "metadata": {
    "collapsed": false,
    "pycharm": {
     "name": "#%%\n"
    }
   }
  },
  {
   "cell_type": "markdown",
   "source": [
    "## Tagging Parts of Speech\n",
    "\n",
    "Part of speech is a grammatical term that deals with the roles words play when you use them together in sentences. Tagging parts of speech, or POS tagging, is the task of labeling the words in your text according to their part of speech.\n",
    "\n",
    "Here’s how to import the relevant parts of NLTK in order to tag parts of speech:"
   ],
   "metadata": {
    "collapsed": false,
    "pycharm": {
     "name": "#%% md\n"
    }
   }
  },
  {
   "cell_type": "code",
   "execution_count": 33,
   "outputs": [
    {
     "ename": "LookupError",
     "evalue": "\n**********************************************************************\n  Resource \u001B[93maveraged_perceptron_tagger\u001B[0m not found.\n  Please use the NLTK Downloader to obtain the resource:\n\n  \u001B[31m>>> import nltk\n  >>> nltk.download('averaged_perceptron_tagger')\n  \u001B[0m\n  For more information see: https://www.nltk.org/data.html\n\n  Attempted to load \u001B[93mtaggers/averaged_perceptron_tagger/averaged_perceptron_tagger.pickle\u001B[0m\n\n  Searched in:\n    - 'C:\\\\Users\\\\HP/nltk_data'\n    - 'C:\\\\Users\\\\HP\\\\PycharmProjects\\\\mining\\\\venv\\\\nltk_data'\n    - 'C:\\\\Users\\\\HP\\\\PycharmProjects\\\\mining\\\\venv\\\\share\\\\nltk_data'\n    - 'C:\\\\Users\\\\HP\\\\PycharmProjects\\\\mining\\\\venv\\\\lib\\\\nltk_data'\n    - 'C:\\\\Users\\\\HP\\\\AppData\\\\Roaming\\\\nltk_data'\n    - 'C:\\\\nltk_data'\n    - 'D:\\\\nltk_data'\n    - 'E:\\\\nltk_data'\n**********************************************************************\n",
     "output_type": "error",
     "traceback": [
      "\u001B[1;31m---------------------------------------------------------------------------\u001B[0m",
      "\u001B[1;31mLookupError\u001B[0m                               Traceback (most recent call last)",
      "Input \u001B[1;32mIn [33]\u001B[0m, in \u001B[0;36m<cell line: 3>\u001B[1;34m()\u001B[0m\n\u001B[0;32m      1\u001B[0m \u001B[38;5;28;01mimport\u001B[39;00m \u001B[38;5;21;01mnltk\u001B[39;00m\n\u001B[1;32m----> 3\u001B[0m \u001B[43mnltk\u001B[49m\u001B[38;5;241;43m.\u001B[39;49m\u001B[43mpos_tag\u001B[49m\u001B[43m(\u001B[49m\u001B[43mfiltered_words\u001B[49m\u001B[43m)\u001B[49m\n",
      "File \u001B[1;32m~\\PycharmProjects\\mining\\venv\\lib\\site-packages\\nltk\\tag\\__init__.py:165\u001B[0m, in \u001B[0;36mpos_tag\u001B[1;34m(tokens, tagset, lang)\u001B[0m\n\u001B[0;32m    140\u001B[0m \u001B[38;5;28;01mdef\u001B[39;00m \u001B[38;5;21mpos_tag\u001B[39m(tokens, tagset\u001B[38;5;241m=\u001B[39m\u001B[38;5;28;01mNone\u001B[39;00m, lang\u001B[38;5;241m=\u001B[39m\u001B[38;5;124m\"\u001B[39m\u001B[38;5;124meng\u001B[39m\u001B[38;5;124m\"\u001B[39m):\n\u001B[0;32m    141\u001B[0m     \u001B[38;5;124;03m\"\"\"\u001B[39;00m\n\u001B[0;32m    142\u001B[0m \u001B[38;5;124;03m    Use NLTK's currently recommended part of speech tagger to\u001B[39;00m\n\u001B[0;32m    143\u001B[0m \u001B[38;5;124;03m    tag the given list of tokens.\u001B[39;00m\n\u001B[1;32m   (...)\u001B[0m\n\u001B[0;32m    163\u001B[0m \u001B[38;5;124;03m    :rtype: list(tuple(str, str))\u001B[39;00m\n\u001B[0;32m    164\u001B[0m \u001B[38;5;124;03m    \"\"\"\u001B[39;00m\n\u001B[1;32m--> 165\u001B[0m     tagger \u001B[38;5;241m=\u001B[39m \u001B[43m_get_tagger\u001B[49m\u001B[43m(\u001B[49m\u001B[43mlang\u001B[49m\u001B[43m)\u001B[49m\n\u001B[0;32m    166\u001B[0m     \u001B[38;5;28;01mreturn\u001B[39;00m _pos_tag(tokens, tagset, tagger, lang)\n",
      "File \u001B[1;32m~\\PycharmProjects\\mining\\venv\\lib\\site-packages\\nltk\\tag\\__init__.py:107\u001B[0m, in \u001B[0;36m_get_tagger\u001B[1;34m(lang)\u001B[0m\n\u001B[0;32m    105\u001B[0m     tagger\u001B[38;5;241m.\u001B[39mload(ap_russian_model_loc)\n\u001B[0;32m    106\u001B[0m \u001B[38;5;28;01melse\u001B[39;00m:\n\u001B[1;32m--> 107\u001B[0m     tagger \u001B[38;5;241m=\u001B[39m \u001B[43mPerceptronTagger\u001B[49m\u001B[43m(\u001B[49m\u001B[43m)\u001B[49m\n\u001B[0;32m    108\u001B[0m \u001B[38;5;28;01mreturn\u001B[39;00m tagger\n",
      "File \u001B[1;32m~\\PycharmProjects\\mining\\venv\\lib\\site-packages\\nltk\\tag\\perceptron.py:167\u001B[0m, in \u001B[0;36mPerceptronTagger.__init__\u001B[1;34m(self, load)\u001B[0m\n\u001B[0;32m    164\u001B[0m \u001B[38;5;28mself\u001B[39m\u001B[38;5;241m.\u001B[39mclasses \u001B[38;5;241m=\u001B[39m \u001B[38;5;28mset\u001B[39m()\n\u001B[0;32m    165\u001B[0m \u001B[38;5;28;01mif\u001B[39;00m load:\n\u001B[0;32m    166\u001B[0m     AP_MODEL_LOC \u001B[38;5;241m=\u001B[39m \u001B[38;5;124m\"\u001B[39m\u001B[38;5;124mfile:\u001B[39m\u001B[38;5;124m\"\u001B[39m \u001B[38;5;241m+\u001B[39m \u001B[38;5;28mstr\u001B[39m(\n\u001B[1;32m--> 167\u001B[0m         \u001B[43mfind\u001B[49m\u001B[43m(\u001B[49m\u001B[38;5;124;43m\"\u001B[39;49m\u001B[38;5;124;43mtaggers/averaged_perceptron_tagger/\u001B[39;49m\u001B[38;5;124;43m\"\u001B[39;49m\u001B[43m \u001B[49m\u001B[38;5;241;43m+\u001B[39;49m\u001B[43m \u001B[49m\u001B[43mPICKLE\u001B[49m\u001B[43m)\u001B[49m\n\u001B[0;32m    168\u001B[0m     )\n\u001B[0;32m    169\u001B[0m     \u001B[38;5;28mself\u001B[39m\u001B[38;5;241m.\u001B[39mload(AP_MODEL_LOC)\n",
      "File \u001B[1;32m~\\PycharmProjects\\mining\\venv\\lib\\site-packages\\nltk\\data.py:583\u001B[0m, in \u001B[0;36mfind\u001B[1;34m(resource_name, paths)\u001B[0m\n\u001B[0;32m    581\u001B[0m sep \u001B[38;5;241m=\u001B[39m \u001B[38;5;124m\"\u001B[39m\u001B[38;5;124m*\u001B[39m\u001B[38;5;124m\"\u001B[39m \u001B[38;5;241m*\u001B[39m \u001B[38;5;241m70\u001B[39m\n\u001B[0;32m    582\u001B[0m resource_not_found \u001B[38;5;241m=\u001B[39m \u001B[38;5;124mf\u001B[39m\u001B[38;5;124m\"\u001B[39m\u001B[38;5;130;01m\\n\u001B[39;00m\u001B[38;5;132;01m{\u001B[39;00msep\u001B[38;5;132;01m}\u001B[39;00m\u001B[38;5;130;01m\\n\u001B[39;00m\u001B[38;5;132;01m{\u001B[39;00mmsg\u001B[38;5;132;01m}\u001B[39;00m\u001B[38;5;130;01m\\n\u001B[39;00m\u001B[38;5;132;01m{\u001B[39;00msep\u001B[38;5;132;01m}\u001B[39;00m\u001B[38;5;130;01m\\n\u001B[39;00m\u001B[38;5;124m\"\u001B[39m\n\u001B[1;32m--> 583\u001B[0m \u001B[38;5;28;01mraise\u001B[39;00m \u001B[38;5;167;01mLookupError\u001B[39;00m(resource_not_found)\n",
      "\u001B[1;31mLookupError\u001B[0m: \n**********************************************************************\n  Resource \u001B[93maveraged_perceptron_tagger\u001B[0m not found.\n  Please use the NLTK Downloader to obtain the resource:\n\n  \u001B[31m>>> import nltk\n  >>> nltk.download('averaged_perceptron_tagger')\n  \u001B[0m\n  For more information see: https://www.nltk.org/data.html\n\n  Attempted to load \u001B[93mtaggers/averaged_perceptron_tagger/averaged_perceptron_tagger.pickle\u001B[0m\n\n  Searched in:\n    - 'C:\\\\Users\\\\HP/nltk_data'\n    - 'C:\\\\Users\\\\HP\\\\PycharmProjects\\\\mining\\\\venv\\\\nltk_data'\n    - 'C:\\\\Users\\\\HP\\\\PycharmProjects\\\\mining\\\\venv\\\\share\\\\nltk_data'\n    - 'C:\\\\Users\\\\HP\\\\PycharmProjects\\\\mining\\\\venv\\\\lib\\\\nltk_data'\n    - 'C:\\\\Users\\\\HP\\\\AppData\\\\Roaming\\\\nltk_data'\n    - 'C:\\\\nltk_data'\n    - 'D:\\\\nltk_data'\n    - 'E:\\\\nltk_data'\n**********************************************************************\n"
     ]
    }
   ],
   "source": [
    "import nltk\n",
    "\n",
    "nltk.pos_tag(filtered_words)"
   ],
   "metadata": {
    "collapsed": false,
    "pycharm": {
     "name": "#%%\n"
    }
   }
  }
 ],
 "metadata": {
  "kernelspec": {
   "display_name": "Python 3",
   "language": "python",
   "name": "python3"
  },
  "language_info": {
   "codemirror_mode": {
    "name": "ipython",
    "version": 2
   },
   "file_extension": ".py",
   "mimetype": "text/x-python",
   "name": "python",
   "nbconvert_exporter": "python",
   "pygments_lexer": "ipython2",
   "version": "2.7.6"
  }
 },
 "nbformat": 4,
 "nbformat_minor": 0
}