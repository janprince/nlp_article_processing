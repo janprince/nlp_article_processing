{
 "cells": [
  {
   "cell_type": "markdown",
   "source": [
    "## Getting Human Language Data"
   ],
   "metadata": {
    "collapsed": false,
    "pycharm": {
     "name": "#%% md\n"
    }
   }
  },
  {
   "cell_type": "markdown",
   "source": [
    "Here, we use an article on Nikola Tesla from history.com"
   ],
   "metadata": {
    "collapsed": false,
    "pycharm": {
     "name": "#%% md\n"
    }
   }
  },
  {
   "cell_type": "code",
   "execution_count": null,
   "outputs": [],
   "source": [
    "import requests\n",
    "from bs4 import BeautifulSoup\n",
    "\n",
    "def request():\n",
    "    url = \"https://www.history.com/topics/inventions/nikola-tesla\"\n",
    "    r = requests.get(url)\n",
    "    text = r.text\n",
    "\n",
    "    # create a beautiful soup object\n",
    "    soup = BeautifulSoup(text, \"html.parser\")\n",
    "\n",
    "    return soup\n"
   ],
   "metadata": {
    "collapsed": false,
    "pycharm": {
     "name": "#%%\n"
    }
   }
  },
  {
   "cell_type": "code",
   "execution_count": 11,
   "outputs": [
    {
     "name": "stdout",
     "output_type": "stream",
     "text": [
      "('Nikola Tesla', 'Serbian-American engineer and physicist Nikola Tesla (1856-1943) made dozens of breakthroughs in the production, transmission and application of electric power. He invented the first alternating current (AC) motor and developed AC generation and transmission technology. Though he was famous and respected, he was never able to translate his copious inventions into long-term financial success—unlike his early employer and chief rival, Thomas Edison.Nikola Tesla’s Early Years     Nikola Tesla was born in 1856 in Smiljan, Croatia, then part of the Austro-Hungarian Empire. His father was a priest in the Serbian Orthodox church and his mother managed the family’s farm. In 1863 Tesla’s brother Daniel was killed in a riding accident. The shock of the loss unsettled the 7-year-old Tesla, who reported seeing visions—the first signs of his lifelong mental illnesses.Did you know? During the 1890s Mark Twain struck up a friendship with inventor Nikola Tesla. Twain often visited him in his lab, where in 1894 Tesla photographed the great American writer in one of the first pictures ever lit by phosphorescent light.Tesla studied math and physics at the Technical University of Graz and philosophy at the University of Prague. In 1882, while on a walk, he came up with the idea for a brushless AC motor, making the first sketches of its rotating electromagnets in the sand of the path. Later that year he moved to Paris and got a job repairing direct current (DC) power plants with the Continental Edison Company. Two years later he immigrated to the United States.Nikola Tesla and Thomas Edison     Tesla arrived in New York in 1884 and was hired as an engineer at Thomas Edison’s Manhattan headquarters. He worked there for a year, impressing Edison with his diligence and ingenuity. At one point Edison told Tesla he would pay $50,000 for an improved design for his DC dynamos. After months of experimentation, Tesla presented a solution and asked for the money. Edison demurred, saying, “Tesla, you don’t understand our American humor.” Tesla quit soon after.Nikola Tesla and Westinghouse     After an unsuccessful attempt to start his own Tesla Electric Light Company and a stint digging ditches for $2 a day, Tesla found backers to support his research into alternating current. In 1887 and 1888 he was granted more than 30 patents for his inventions and invited to address the American Institute of Electrical Engineers on his work. His lecture caught the attention of George Westinghouse, the inventor who had launched the first AC power system near Boston and was Edison’s major competitor in the “Battle of the Currents.”Scroll to ContinueRecommended for you1970Young Lords occupy Lincoln Hospital in the BronxWhat Was Life Like in Ancient Babylon?7 Mysterious Mass Illnesses That Defied ExplanationWestinghouse hired Tesla, licensed the patents for his AC motor and gave him his own lab. In 1890 Edison arranged for a convicted New York murderer to be put to death in an AC-powered electric chair—a stunt designed to show how dangerous the Westinghouse standard could be.Buoyed by Westinghouse’s royalties, Tesla struck out on his own again. But Westinghouse was soon forced by his backers to renegotiate their contract, with Tesla relinquishing his royalty rights.In the 1890s Tesla invented electric oscillators, meters, improved lights and the high-voltage transformer known as the Tesla coil. He also experimented with X-rays, gave short-range demonstrations of radio communication two years before Guglielmo Marconi and piloted a radio-controlled boat around a pool in Madison Square Garden. Together, Tesla and Westinghouse lit the 1893 World’s Columbian Exposition in Chicago and partnered with General Electric to install AC generators at Niagara Falls, creating the first modern power station.Nikola Tesla’s Failures, Death and Legacy     In 1895 Tesla’s New York lab burned, destroying years’ worth of notes and equipment. Tesla relocated to Colorado Springs for two years, returning to New York in 1900. He secured backing from financier J.P. Morgan and began building a global communications network centered on a giant tower at Wardenclyffe, on Long Island. But funds ran out and Morgan balked at Tesla’s grandiose schemes.Tesla lived his last decades in a New York hotel, working on new inventions even as his energy and mental health faded. His obsession with the number three and fastidious washing were dismissed as the eccentricities of genius. He spent his final years feeding—and, he claimed, communicating with—the city’s pigeons.Tesla died in his room on January 7, 1943. Later that year the U.S. Supreme Court voided four of Marconi’s key patents, belatedly acknowledging Tesla’s innovations in radio. The AC system he championed and improved remains the global standard for power transmission.')\n"
     ]
    }
   ],
   "source": [
    "def scrape_info(soup):\n",
    "    \"\"\"\n",
    "    :param soup: Beautiful soup object\n",
    "    :return:\n",
    "    \"\"\"\n",
    "    article_title = soup.find(\"h1\", class_=\"m-detail-header--title\")\n",
    "    article_title = article_title.text\n",
    "\n",
    "    article_body = soup.find(\"div\", class_=\"m-detail--body\")\n",
    "    article_body.find(\"aside\").decompose()\n",
    "    article_body = article_body.text\n",
    "\n",
    "    return article_title, article_body\n",
    "\n",
    "print(scrape_info(request()))"
   ],
   "metadata": {
    "collapsed": false,
    "pycharm": {
     "name": "#%%\n"
    }
   }
  },
  {
   "cell_type": "code",
   "execution_count": 34,
   "outputs": [
    {
     "name": "stderr",
     "output_type": "stream",
     "text": [
      "[nltk_data] Downloading package averaged_perceptron_tagger to\n",
      "[nltk_data]     C:\\Users\\HP\\AppData\\Roaming\\nltk_data...\n",
      "[nltk_data]   Unzipping taggers\\averaged_perceptron_tagger.zip.\n"
     ]
    },
    {
     "data": {
      "text/plain": "True"
     },
     "execution_count": 34,
     "metadata": {},
     "output_type": "execute_result"
    }
   ],
   "source": [
    "import nltk\n",
    "nltk.download('averaged_perceptron_tagger')"
   ],
   "metadata": {
    "collapsed": false,
    "pycharm": {
     "name": "#%%\n"
    }
   }
  },
  {
   "cell_type": "markdown",
   "source": [
    "## Tokenizing"
   ],
   "metadata": {
    "collapsed": false,
    "pycharm": {
     "name": "#%% md\n"
    }
   }
  },
  {
   "cell_type": "code",
   "execution_count": 28,
   "outputs": [],
   "source": [
    "from nltk.tokenize import sent_tokenize, word_tokenize\n",
    "\n",
    "# Get data\n",
    "title, article = scrape_info(request())\n",
    "\n",
    "# sent_tokenize() to split up article into sentences:\n",
    "sentences = sent_tokenize(article)\n",
    "\n",
    "# tokenizing by word\n",
    "article_words = word_tokenize(article)"
   ],
   "metadata": {
    "collapsed": false,
    "pycharm": {
     "name": "#%%\n"
    }
   }
  },
  {
   "cell_type": "code",
   "execution_count": 20,
   "outputs": [
    {
     "data": {
      "text/plain": "['Serbian-American engineer and physicist Nikola Tesla (1856-1943) made dozens of breakthroughs in the production, transmission and application of electric power.',\n 'He invented the first alternating current (AC) motor and developed AC generation and transmission technology.',\n 'Though he was famous and respected, he was never able to translate his copious inventions into long-term financial success—unlike his early employer and chief rival, Thomas Edison.Nikola Tesla’s Early Years     Nikola Tesla was born in 1856 in Smiljan, Croatia, then part of the Austro-Hungarian Empire.',\n 'His father was a priest in the Serbian Orthodox church and his mother managed the family’s farm.',\n 'In 1863 Tesla’s brother Daniel was killed in a riding accident.',\n 'The shock of the loss unsettled the 7-year-old Tesla, who reported seeing visions—the first signs of his lifelong mental illnesses.Did you know?',\n 'During the 1890s Mark Twain struck up a friendship with inventor Nikola Tesla.',\n 'Twain often visited him in his lab, where in 1894 Tesla photographed the great American writer in one of the first pictures ever lit by phosphorescent light.Tesla studied math and physics at the Technical University of Graz and philosophy at the University of Prague.',\n 'In 1882, while on a walk, he came up with the idea for a brushless AC motor, making the first sketches of its rotating electromagnets in the sand of the path.',\n 'Later that year he moved to Paris and got a job repairing direct current (DC) power plants with the Continental Edison Company.',\n 'Two years later he immigrated to the United States.Nikola Tesla and Thomas Edison     Tesla arrived in New York in 1884 and was hired as an engineer at Thomas Edison’s Manhattan headquarters.',\n 'He worked there for a year, impressing Edison with his diligence and ingenuity.',\n 'At one point Edison told Tesla he would pay $50,000 for an improved design for his DC dynamos.',\n 'After months of experimentation, Tesla presented a solution and asked for the money.',\n 'Edison demurred, saying, “Tesla, you don’t understand our American humor.” Tesla quit soon after.Nikola Tesla and Westinghouse     After an unsuccessful attempt to start his own Tesla Electric Light Company and a stint digging ditches for $2 a day, Tesla found backers to support his research into alternating current.',\n 'In 1887 and 1888 he was granted more than 30 patents for his inventions and invited to address the American Institute of Electrical Engineers on his work.',\n 'His lecture caught the attention of George Westinghouse, the inventor who had launched the first AC power system near Boston and was Edison’s major competitor in the “Battle of the Currents.”Scroll to ContinueRecommended for you1970Young Lords occupy Lincoln Hospital in the BronxWhat Was Life Like in Ancient Babylon?7 Mysterious Mass Illnesses That Defied ExplanationWestinghouse hired Tesla, licensed the patents for his AC motor and gave him his own lab.',\n 'In 1890 Edison arranged for a convicted New York murderer to be put to death in an AC-powered electric chair—a stunt designed to show how dangerous the Westinghouse standard could be.Buoyed by Westinghouse’s royalties, Tesla struck out on his own again.',\n 'But Westinghouse was soon forced by his backers to renegotiate their contract, with Tesla relinquishing his royalty rights.In the 1890s Tesla invented electric oscillators, meters, improved lights and the high-voltage transformer known as the Tesla coil.',\n 'He also experimented with X-rays, gave short-range demonstrations of radio communication two years before Guglielmo Marconi and piloted a radio-controlled boat around a pool in Madison Square Garden.',\n 'Together, Tesla and Westinghouse lit the 1893 World’s Columbian Exposition in Chicago and partnered with General Electric to install AC generators at Niagara Falls, creating the first modern power station.Nikola Tesla’s Failures, Death and Legacy     In 1895 Tesla’s New York lab burned, destroying years’ worth of notes and equipment.',\n 'Tesla relocated to Colorado Springs for two years, returning to New York in 1900.',\n 'He secured backing from financier J.P. Morgan and began building a global communications network centered on a giant tower at Wardenclyffe, on Long Island.',\n 'But funds ran out and Morgan balked at Tesla’s grandiose schemes.Tesla lived his last decades in a New York hotel, working on new inventions even as his energy and mental health faded.',\n 'His obsession with the number three and fastidious washing were dismissed as the eccentricities of genius.',\n 'He spent his final years feeding—and, he claimed, communicating with—the city’s pigeons.Tesla died in his room on January 7, 1943.',\n 'Later that year the U.S. Supreme Court voided four of Marconi’s key patents, belatedly acknowledging Tesla’s innovations in radio.',\n 'The AC system he championed and improved remains the global standard for power transmission.']"
     },
     "execution_count": 20,
     "metadata": {},
     "output_type": "execute_result"
    }
   ],
   "source": [
    "sentences"
   ],
   "metadata": {
    "collapsed": false,
    "pycharm": {
     "name": "#%%\n"
    }
   }
  },
  {
   "cell_type": "markdown",
   "source": [
    "## Filtering Stop Words\n",
    "Stop words are words that you want to ignore, so you filter them out of your text when you’re processing it. Very common words like 'in', 'is', and 'an' are often used as stop words since they don’t add a lot of meaning to a text in and of themselves."
   ],
   "metadata": {
    "collapsed": false,
    "pycharm": {
     "name": "#%% md\n"
    }
   }
  },
  {
   "cell_type": "code",
   "execution_count": 30,
   "outputs": [
    {
     "name": "stdout",
     "output_type": "stream",
     "text": [
      "['Serbian-American', 'engineer', 'physicist', 'Nikola', 'Tesla', '(', '1856-1943', ')', 'made', 'dozens', 'breakthroughs', 'production', ',', 'transmission', 'application', 'electric', 'power', '.', 'He', 'invented', 'first', 'alternating', 'current', '(', 'AC', ')', 'motor', 'developed', 'AC', 'generation', 'transmission', 'technology', '.', 'Though', 'famous', 'respected', ',', 'never', 'able', 'translate', 'copious', 'inventions', 'long-term', 'financial', 'success—unlike', 'early', 'employer', 'chief', 'rival', ',', 'Thomas', 'Edison.Nikola', 'Tesla', '’', 'Early', 'Years', 'Nikola', 'Tesla', 'born', '1856', 'Smiljan', ',', 'Croatia', ',', 'part', 'Austro-Hungarian', 'Empire', '.', 'His', 'father', 'priest', 'Serbian', 'Orthodox', 'church', 'mother', 'managed', 'family', '’', 'farm', '.', 'In', '1863', 'Tesla', '’', 'brother', 'Daniel', 'killed', 'riding', 'accident', '.', 'The', 'shock', 'loss', 'unsettled', '7-year-old', 'Tesla', ',', 'reported', 'seeing', 'visions—the', 'first', 'signs', 'lifelong', 'mental', 'illnesses.Did', 'know', '?', 'During', '1890s', 'Mark', 'Twain', 'struck', 'friendship', 'inventor', 'Nikola', 'Tesla', '.', 'Twain', 'often', 'visited', 'lab', ',', '1894', 'Tesla', 'photographed', 'great', 'American', 'writer', 'one', 'first', 'pictures', 'ever', 'lit', 'phosphorescent', 'light.Tesla', 'studied', 'math', 'physics', 'Technical', 'University', 'Graz', 'philosophy', 'University', 'Prague', '.', 'In', '1882', ',', 'walk', ',', 'came', 'idea', 'brushless', 'AC', 'motor', ',', 'making', 'first', 'sketches', 'rotating', 'electromagnets', 'sand', 'path', '.', 'Later', 'year', 'moved', 'Paris', 'got', 'job', 'repairing', 'direct', 'current', '(', 'DC', ')', 'power', 'plants', 'Continental', 'Edison', 'Company', '.', 'Two', 'years', 'later', 'immigrated', 'United', 'States.Nikola', 'Tesla', 'Thomas', 'Edison', 'Tesla', 'arrived', 'New', 'York', '1884', 'hired', 'engineer', 'Thomas', 'Edison', '’', 'Manhattan', 'headquarters', '.', 'He', 'worked', 'year', ',', 'impressing', 'Edison', 'diligence', 'ingenuity', '.', 'At', 'one', 'point', 'Edison', 'told', 'Tesla', 'would', 'pay', '$', '50,000', 'improved', 'design', 'DC', 'dynamos', '.', 'After', 'months', 'experimentation', ',', 'Tesla', 'presented', 'solution', 'asked', 'money', '.', 'Edison', 'demurred', ',', 'saying', ',', '“', 'Tesla', ',', '’', 'understand', 'American', 'humor.', '”', 'Tesla', 'quit', 'soon', 'after.Nikola', 'Tesla', 'Westinghouse', 'After', 'unsuccessful', 'attempt', 'start', 'Tesla', 'Electric', 'Light', 'Company', 'stint', 'digging', 'ditches', '$', '2', 'day', ',', 'Tesla', 'found', 'backers', 'support', 'research', 'alternating', 'current', '.', 'In', '1887', '1888', 'granted', '30', 'patents', 'inventions', 'invited', 'address', 'American', 'Institute', 'Electrical', 'Engineers', 'work', '.', 'His', 'lecture', 'caught', 'attention', 'George', 'Westinghouse', ',', 'inventor', 'launched', 'first', 'AC', 'power', 'system', 'near', 'Boston', 'Edison', '’', 'major', 'competitor', '“', 'Battle', 'Currents.', '”', 'Scroll', 'ContinueRecommended', 'you1970Young', 'Lords', 'occupy', 'Lincoln', 'Hospital', 'BronxWhat', 'Was', 'Life', 'Like', 'Ancient', 'Babylon', '?', '7', 'Mysterious', 'Mass', 'Illnesses', 'That', 'Defied', 'ExplanationWestinghouse', 'hired', 'Tesla', ',', 'licensed', 'patents', 'AC', 'motor', 'gave', 'lab', '.', 'In', '1890', 'Edison', 'arranged', 'convicted', 'New', 'York', 'murderer', 'put', 'death', 'AC-powered', 'electric', 'chair—a', 'stunt', 'designed', 'show', 'dangerous', 'Westinghouse', 'standard', 'could', 'be.Buoyed', 'Westinghouse', '’', 'royalties', ',', 'Tesla', 'struck', '.', 'But', 'Westinghouse', 'soon', 'forced', 'backers', 'renegotiate', 'contract', ',', 'Tesla', 'relinquishing', 'royalty', 'rights.In', '1890s', 'Tesla', 'invented', 'electric', 'oscillators', ',', 'meters', ',', 'improved', 'lights', 'high-voltage', 'transformer', 'known', 'Tesla', 'coil', '.', 'He', 'also', 'experimented', 'X-rays', ',', 'gave', 'short-range', 'demonstrations', 'radio', 'communication', 'two', 'years', 'Guglielmo', 'Marconi', 'piloted', 'radio-controlled', 'boat', 'around', 'pool', 'Madison', 'Square', 'Garden', '.', 'Together', ',', 'Tesla', 'Westinghouse', 'lit', '1893', 'World', '’', 'Columbian', 'Exposition', 'Chicago', 'partnered', 'General', 'Electric', 'install', 'AC', 'generators', 'Niagara', 'Falls', ',', 'creating', 'first', 'modern', 'power', 'station.Nikola', 'Tesla', '’', 'Failures', ',', 'Death', 'Legacy', 'In', '1895', 'Tesla', '’', 'New', 'York', 'lab', 'burned', ',', 'destroying', 'years', '’', 'worth', 'notes', 'equipment', '.', 'Tesla', 'relocated', 'Colorado', 'Springs', 'two', 'years', ',', 'returning', 'New', 'York', '1900', '.', 'He', 'secured', 'backing', 'financier', 'J.P.', 'Morgan', 'began', 'building', 'global', 'communications', 'network', 'centered', 'giant', 'tower', 'Wardenclyffe', ',', 'Long', 'Island', '.', 'But', 'funds', 'ran', 'Morgan', 'balked', 'Tesla', '’', 'grandiose', 'schemes.Tesla', 'lived', 'last', 'decades', 'New', 'York', 'hotel', ',', 'working', 'new', 'inventions', 'even', 'energy', 'mental', 'health', 'faded', '.', 'His', 'obsession', 'number', 'three', 'fastidious', 'washing', 'dismissed', 'eccentricities', 'genius', '.', 'He', 'spent', 'final', 'years', 'feeding—and', ',', 'claimed', ',', 'communicating', 'with—the', 'city', '’', 'pigeons.Tesla', 'died', 'room', 'January', '7', ',', '1943', '.', 'Later', 'year', 'U.S.', 'Supreme', 'Court', 'voided', 'four', 'Marconi', '’', 'key', 'patents', ',', 'belatedly', 'acknowledging', 'Tesla', '’', 'innovations', 'radio', '.', 'The', 'AC', 'system', 'championed', 'improved', 'remains', 'global', 'standard', 'power', 'transmission', '.']\n"
     ]
    }
   ],
   "source": [
    "from nltk.corpus import stopwords\n",
    "\n",
    "# a list of english stop words\n",
    "stop_words = stopwords.words(\"english\")\n",
    "\n",
    "# filter word tokens\n",
    "filtered_words = [word for word in article_words if word not in stop_words]\n",
    "print(filtered_words)"
   ],
   "metadata": {
    "collapsed": false,
    "pycharm": {
     "name": "#%%\n"
    }
   }
  },
  {
   "cell_type": "markdown",
   "source": [
    "## Stemming\n",
    "\n",
    "Stemming is a text processing task in which you reduce words to their root, which is the core part of a word. For example, the words “helping” and “helper” share the root “help.” Stemming allows you to zero in on the basic meaning of a word rather than all the details of how it’s being used. NLTK has more than one stemmer, but you’ll be using the Porter stemmer."
   ],
   "metadata": {
    "collapsed": false,
    "pycharm": {
     "name": "#%% md\n"
    }
   }
  },
  {
   "cell_type": "code",
   "execution_count": 32,
   "outputs": [
    {
     "data": {
      "text/plain": "['serbian-american',\n 'engin',\n 'physicist',\n 'nikola',\n 'tesla',\n '(',\n '1856-1943',\n ')',\n 'made',\n 'dozen',\n 'breakthrough',\n 'product',\n ',',\n 'transmiss',\n 'applic',\n 'electr',\n 'power',\n '.',\n 'he',\n 'invent',\n 'first',\n 'altern',\n 'current',\n '(',\n 'ac',\n ')',\n 'motor',\n 'develop',\n 'ac',\n 'gener',\n 'transmiss',\n 'technolog',\n '.',\n 'though',\n 'famou',\n 'respect',\n ',',\n 'never',\n 'abl',\n 'translat',\n 'copiou',\n 'invent',\n 'long-term',\n 'financi',\n 'success—unlik',\n 'earli',\n 'employ',\n 'chief',\n 'rival',\n ',',\n 'thoma',\n 'edison.nikola',\n 'tesla',\n '’',\n 'earli',\n 'year',\n 'nikola',\n 'tesla',\n 'born',\n '1856',\n 'smiljan',\n ',',\n 'croatia',\n ',',\n 'part',\n 'austro-hungarian',\n 'empir',\n '.',\n 'hi',\n 'father',\n 'priest',\n 'serbian',\n 'orthodox',\n 'church',\n 'mother',\n 'manag',\n 'famili',\n '’',\n 'farm',\n '.',\n 'in',\n '1863',\n 'tesla',\n '’',\n 'brother',\n 'daniel',\n 'kill',\n 'ride',\n 'accid',\n '.',\n 'the',\n 'shock',\n 'loss',\n 'unsettl',\n '7-year-old',\n 'tesla',\n ',',\n 'report',\n 'see',\n 'visions—th',\n 'first',\n 'sign',\n 'lifelong',\n 'mental',\n 'illnesses.did',\n 'know',\n '?',\n 'dure',\n '1890',\n 'mark',\n 'twain',\n 'struck',\n 'friendship',\n 'inventor',\n 'nikola',\n 'tesla',\n '.',\n 'twain',\n 'often',\n 'visit',\n 'lab',\n ',',\n '1894',\n 'tesla',\n 'photograph',\n 'great',\n 'american',\n 'writer',\n 'one',\n 'first',\n 'pictur',\n 'ever',\n 'lit',\n 'phosphoresc',\n 'light.tesla',\n 'studi',\n 'math',\n 'physic',\n 'technic',\n 'univers',\n 'graz',\n 'philosophi',\n 'univers',\n 'pragu',\n '.',\n 'in',\n '1882',\n ',',\n 'walk',\n ',',\n 'came',\n 'idea',\n 'brushless',\n 'ac',\n 'motor',\n ',',\n 'make',\n 'first',\n 'sketch',\n 'rotat',\n 'electromagnet',\n 'sand',\n 'path',\n '.',\n 'later',\n 'year',\n 'move',\n 'pari',\n 'got',\n 'job',\n 'repair',\n 'direct',\n 'current',\n '(',\n 'dc',\n ')',\n 'power',\n 'plant',\n 'continent',\n 'edison',\n 'compani',\n '.',\n 'two',\n 'year',\n 'later',\n 'immigr',\n 'unit',\n 'states.nikola',\n 'tesla',\n 'thoma',\n 'edison',\n 'tesla',\n 'arriv',\n 'new',\n 'york',\n '1884',\n 'hire',\n 'engin',\n 'thoma',\n 'edison',\n '’',\n 'manhattan',\n 'headquart',\n '.',\n 'he',\n 'work',\n 'year',\n ',',\n 'impress',\n 'edison',\n 'dilig',\n 'ingenu',\n '.',\n 'at',\n 'one',\n 'point',\n 'edison',\n 'told',\n 'tesla',\n 'would',\n 'pay',\n '$',\n '50,000',\n 'improv',\n 'design',\n 'dc',\n 'dynamo',\n '.',\n 'after',\n 'month',\n 'experiment',\n ',',\n 'tesla',\n 'present',\n 'solut',\n 'ask',\n 'money',\n '.',\n 'edison',\n 'demur',\n ',',\n 'say',\n ',',\n '“',\n 'tesla',\n ',',\n '’',\n 'understand',\n 'american',\n 'humor.',\n '”',\n 'tesla',\n 'quit',\n 'soon',\n 'after.nikola',\n 'tesla',\n 'westinghous',\n 'after',\n 'unsuccess',\n 'attempt',\n 'start',\n 'tesla',\n 'electr',\n 'light',\n 'compani',\n 'stint',\n 'dig',\n 'ditch',\n '$',\n '2',\n 'day',\n ',',\n 'tesla',\n 'found',\n 'backer',\n 'support',\n 'research',\n 'altern',\n 'current',\n '.',\n 'in',\n '1887',\n '1888',\n 'grant',\n '30',\n 'patent',\n 'invent',\n 'invit',\n 'address',\n 'american',\n 'institut',\n 'electr',\n 'engin',\n 'work',\n '.',\n 'hi',\n 'lectur',\n 'caught',\n 'attent',\n 'georg',\n 'westinghous',\n ',',\n 'inventor',\n 'launch',\n 'first',\n 'ac',\n 'power',\n 'system',\n 'near',\n 'boston',\n 'edison',\n '’',\n 'major',\n 'competitor',\n '“',\n 'battl',\n 'currents.',\n '”',\n 'scroll',\n 'continuerecommend',\n 'you1970young',\n 'lord',\n 'occupi',\n 'lincoln',\n 'hospit',\n 'bronxwhat',\n 'wa',\n 'life',\n 'like',\n 'ancient',\n 'babylon',\n '?',\n '7',\n 'mysteri',\n 'mass',\n 'ill',\n 'that',\n 'defi',\n 'explanationwestinghous',\n 'hire',\n 'tesla',\n ',',\n 'licens',\n 'patent',\n 'ac',\n 'motor',\n 'gave',\n 'lab',\n '.',\n 'in',\n '1890',\n 'edison',\n 'arrang',\n 'convict',\n 'new',\n 'york',\n 'murder',\n 'put',\n 'death',\n 'ac-pow',\n 'electr',\n 'chair—a',\n 'stunt',\n 'design',\n 'show',\n 'danger',\n 'westinghous',\n 'standard',\n 'could',\n 'be.buoy',\n 'westinghous',\n '’',\n 'royalti',\n ',',\n 'tesla',\n 'struck',\n '.',\n 'but',\n 'westinghous',\n 'soon',\n 'forc',\n 'backer',\n 'renegoti',\n 'contract',\n ',',\n 'tesla',\n 'relinquish',\n 'royalti',\n 'rights.in',\n '1890',\n 'tesla',\n 'invent',\n 'electr',\n 'oscil',\n ',',\n 'meter',\n ',',\n 'improv',\n 'light',\n 'high-voltag',\n 'transform',\n 'known',\n 'tesla',\n 'coil',\n '.',\n 'he',\n 'also',\n 'experi',\n 'x-ray',\n ',',\n 'gave',\n 'short-rang',\n 'demonstr',\n 'radio',\n 'commun',\n 'two',\n 'year',\n 'guglielmo',\n 'marconi',\n 'pilot',\n 'radio-control',\n 'boat',\n 'around',\n 'pool',\n 'madison',\n 'squar',\n 'garden',\n '.',\n 'togeth',\n ',',\n 'tesla',\n 'westinghous',\n 'lit',\n '1893',\n 'world',\n '’',\n 'columbian',\n 'exposit',\n 'chicago',\n 'partner',\n 'gener',\n 'electr',\n 'instal',\n 'ac',\n 'gener',\n 'niagara',\n 'fall',\n ',',\n 'creat',\n 'first',\n 'modern',\n 'power',\n 'station.nikola',\n 'tesla',\n '’',\n 'failur',\n ',',\n 'death',\n 'legaci',\n 'in',\n '1895',\n 'tesla',\n '’',\n 'new',\n 'york',\n 'lab',\n 'burn',\n ',',\n 'destroy',\n 'year',\n '’',\n 'worth',\n 'note',\n 'equip',\n '.',\n 'tesla',\n 'reloc',\n 'colorado',\n 'spring',\n 'two',\n 'year',\n ',',\n 'return',\n 'new',\n 'york',\n '1900',\n '.',\n 'he',\n 'secur',\n 'back',\n 'financi',\n 'j.p.',\n 'morgan',\n 'began',\n 'build',\n 'global',\n 'commun',\n 'network',\n 'center',\n 'giant',\n 'tower',\n 'wardenclyff',\n ',',\n 'long',\n 'island',\n '.',\n 'but',\n 'fund',\n 'ran',\n 'morgan',\n 'balk',\n 'tesla',\n '’',\n 'grandios',\n 'schemes.tesla',\n 'live',\n 'last',\n 'decad',\n 'new',\n 'york',\n 'hotel',\n ',',\n 'work',\n 'new',\n 'invent',\n 'even',\n 'energi',\n 'mental',\n 'health',\n 'fade',\n '.',\n 'hi',\n 'obsess',\n 'number',\n 'three',\n 'fastidi',\n 'wash',\n 'dismiss',\n 'eccentr',\n 'geniu',\n '.',\n 'he',\n 'spent',\n 'final',\n 'year',\n 'feeding—and',\n ',',\n 'claim',\n ',',\n 'commun',\n 'with—th',\n 'citi',\n '’',\n 'pigeons.tesla',\n 'die',\n 'room',\n 'januari',\n '7',\n ',',\n '1943',\n '.',\n 'later',\n 'year',\n 'u.s.',\n 'suprem',\n 'court',\n 'void',\n 'four',\n 'marconi',\n '’',\n 'key',\n 'patent',\n ',',\n 'belatedli',\n 'acknowledg',\n 'tesla',\n '’',\n 'innov',\n 'radio',\n '.',\n 'the',\n 'ac',\n 'system',\n 'champion',\n 'improv',\n 'remain',\n 'global',\n 'standard',\n 'power',\n 'transmiss',\n '.']"
     },
     "execution_count": 32,
     "metadata": {},
     "output_type": "execute_result"
    }
   ],
   "source": [
    "from nltk.stem import PorterStemmer\n",
    "\n",
    "# stemming object\n",
    "stemmer = PorterStemmer()\n",
    "\n",
    "# stemmed_words\n",
    "stemmed_words = [stemmer.stem(word) for word in filtered_words]\n",
    "\n",
    "stemmed_words"
   ],
   "metadata": {
    "collapsed": false,
    "pycharm": {
     "name": "#%%\n"
    }
   }
  },
  {
   "cell_type": "markdown",
   "source": [
    "## Tagging Parts of Speech\n",
    "\n",
    "Part of speech is a grammatical term that deals with the roles words play when you use them together in sentences. Tagging parts of speech, or POS tagging, is the task of labeling the words in your text according to their part of speech.\n",
    "\n",
    "Here’s how to import the relevant parts of NLTK in order to tag parts of speech:"
   ],
   "metadata": {
    "collapsed": false,
    "pycharm": {
     "name": "#%% md\n"
    }
   }
  },
  {
   "cell_type": "code",
   "execution_count": 35,
   "outputs": [
    {
     "data": {
      "text/plain": "[('Serbian-American', 'JJ'),\n ('engineer', 'NN'),\n ('physicist', 'NN'),\n ('Nikola', 'NNP'),\n ('Tesla', 'NNP'),\n ('(', '('),\n ('1856-1943', 'JJ'),\n (')', ')'),\n ('made', 'VBD'),\n ('dozens', 'NNS'),\n ('breakthroughs', 'JJ'),\n ('production', 'NN'),\n (',', ','),\n ('transmission', 'NN'),\n ('application', 'NN'),\n ('electric', 'JJ'),\n ('power', 'NN'),\n ('.', '.'),\n ('He', 'PRP'),\n ('invented', 'VBD'),\n ('first', 'RB'),\n ('alternating', 'VBG'),\n ('current', 'JJ'),\n ('(', '('),\n ('AC', 'NNP'),\n (')', ')'),\n ('motor', 'NN'),\n ('developed', 'VBD'),\n ('AC', 'NNP'),\n ('generation', 'NN'),\n ('transmission', 'NN'),\n ('technology', 'NN'),\n ('.', '.'),\n ('Though', 'IN'),\n ('famous', 'JJ'),\n ('respected', 'VBN'),\n (',', ','),\n ('never', 'RB'),\n ('able', 'JJ'),\n ('translate', 'NN'),\n ('copious', 'JJ'),\n ('inventions', 'NNS'),\n ('long-term', 'JJ'),\n ('financial', 'JJ'),\n ('success—unlike', 'NN'),\n ('early', 'RB'),\n ('employer', 'NN'),\n ('chief', 'NN'),\n ('rival', 'NN'),\n (',', ','),\n ('Thomas', 'NNP'),\n ('Edison.Nikola', 'NNP'),\n ('Tesla', 'NNP'),\n ('’', 'NNP'),\n ('Early', 'NNP'),\n ('Years', 'NNP'),\n ('Nikola', 'NNP'),\n ('Tesla', 'NNP'),\n ('born', 'IN'),\n ('1856', 'CD'),\n ('Smiljan', 'NNP'),\n (',', ','),\n ('Croatia', 'NNP'),\n (',', ','),\n ('part', 'NN'),\n ('Austro-Hungarian', 'JJ'),\n ('Empire', 'NNP'),\n ('.', '.'),\n ('His', 'PRP$'),\n ('father', 'NN'),\n ('priest', 'NN'),\n ('Serbian', 'JJ'),\n ('Orthodox', 'NNP'),\n ('church', 'NN'),\n ('mother', 'NN'),\n ('managed', 'VBD'),\n ('family', 'NN'),\n ('’', 'NNP'),\n ('farm', 'NN'),\n ('.', '.'),\n ('In', 'IN'),\n ('1863', 'CD'),\n ('Tesla', 'NNP'),\n ('’', 'NNP'),\n ('brother', 'NN'),\n ('Daniel', 'NNP'),\n ('killed', 'VBD'),\n ('riding', 'VBG'),\n ('accident', 'NN'),\n ('.', '.'),\n ('The', 'DT'),\n ('shock', 'NN'),\n ('loss', 'NN'),\n ('unsettled', 'VBD'),\n ('7-year-old', 'JJ'),\n ('Tesla', 'NNP'),\n (',', ','),\n ('reported', 'VBD'),\n ('seeing', 'VBG'),\n ('visions—the', 'NN'),\n ('first', 'JJ'),\n ('signs', 'NNS'),\n ('lifelong', 'JJ'),\n ('mental', 'JJ'),\n ('illnesses.Did', 'NN'),\n ('know', 'VB'),\n ('?', '.'),\n ('During', 'IN'),\n ('1890s', 'CD'),\n ('Mark', 'NNP'),\n ('Twain', 'NNP'),\n ('struck', 'VBD'),\n ('friendship', 'JJ'),\n ('inventor', 'NN'),\n ('Nikola', 'NNP'),\n ('Tesla', 'NNP'),\n ('.', '.'),\n ('Twain', 'NNP'),\n ('often', 'RB'),\n ('visited', 'VBD'),\n ('lab', 'NN'),\n (',', ','),\n ('1894', 'CD'),\n ('Tesla', 'NNP'),\n ('photographed', 'VBD'),\n ('great', 'JJ'),\n ('American', 'JJ'),\n ('writer', 'NN'),\n ('one', 'CD'),\n ('first', 'JJ'),\n ('pictures', 'VBZ'),\n ('ever', 'RB'),\n ('lit', 'JJ'),\n ('phosphorescent', 'NN'),\n ('light.Tesla', 'NN'),\n ('studied', 'VBD'),\n ('math', 'JJ'),\n ('physics', 'NNS'),\n ('Technical', 'NNP'),\n ('University', 'NNP'),\n ('Graz', 'NNP'),\n ('philosophy', 'NN'),\n ('University', 'NNP'),\n ('Prague', 'NNP'),\n ('.', '.'),\n ('In', 'IN'),\n ('1882', 'CD'),\n (',', ','),\n ('walk', 'NN'),\n (',', ','),\n ('came', 'VBD'),\n ('idea', 'NN'),\n ('brushless', 'NN'),\n ('AC', 'NNP'),\n ('motor', 'NN'),\n (',', ','),\n ('making', 'VBG'),\n ('first', 'JJ'),\n ('sketches', 'NNS'),\n ('rotating', 'VBG'),\n ('electromagnets', 'NNS'),\n ('sand', 'VBP'),\n ('path', 'NN'),\n ('.', '.'),\n ('Later', 'JJ'),\n ('year', 'NN'),\n ('moved', 'VBD'),\n ('Paris', 'NNP'),\n ('got', 'VBD'),\n ('job', 'NN'),\n ('repairing', 'VBG'),\n ('direct', 'JJ'),\n ('current', 'JJ'),\n ('(', '('),\n ('DC', 'NNP'),\n (')', ')'),\n ('power', 'NN'),\n ('plants', 'NNS'),\n ('Continental', 'NNP'),\n ('Edison', 'NNP'),\n ('Company', 'NNP'),\n ('.', '.'),\n ('Two', 'CD'),\n ('years', 'NNS'),\n ('later', 'RB'),\n ('immigrated', 'VBD'),\n ('United', 'NNP'),\n ('States.Nikola', 'NNP'),\n ('Tesla', 'NNP'),\n ('Thomas', 'NNP'),\n ('Edison', 'NNP'),\n ('Tesla', 'NNP'),\n ('arrived', 'VBD'),\n ('New', 'NNP'),\n ('York', 'NNP'),\n ('1884', 'CD'),\n ('hired', 'VBD'),\n ('engineer', 'NN'),\n ('Thomas', 'NNP'),\n ('Edison', 'NNP'),\n ('’', 'NNP'),\n ('Manhattan', 'NNP'),\n ('headquarters', 'NN'),\n ('.', '.'),\n ('He', 'PRP'),\n ('worked', 'VBD'),\n ('year', 'NN'),\n (',', ','),\n ('impressing', 'VBG'),\n ('Edison', 'NNP'),\n ('diligence', 'NN'),\n ('ingenuity', 'NN'),\n ('.', '.'),\n ('At', 'IN'),\n ('one', 'CD'),\n ('point', 'NN'),\n ('Edison', 'NNP'),\n ('told', 'VBD'),\n ('Tesla', 'NNP'),\n ('would', 'MD'),\n ('pay', 'VB'),\n ('$', '$'),\n ('50,000', 'CD'),\n ('improved', 'VBN'),\n ('design', 'NN'),\n ('DC', 'NNP'),\n ('dynamos', 'NN'),\n ('.', '.'),\n ('After', 'IN'),\n ('months', 'NNS'),\n ('experimentation', 'NN'),\n (',', ','),\n ('Tesla', 'NNP'),\n ('presented', 'VBD'),\n ('solution', 'NN'),\n ('asked', 'VBD'),\n ('money', 'NN'),\n ('.', '.'),\n ('Edison', 'NNP'),\n ('demurred', 'VBD'),\n (',', ','),\n ('saying', 'VBG'),\n (',', ','),\n ('“', 'NNP'),\n ('Tesla', 'NNP'),\n (',', ','),\n ('’', 'NNP'),\n ('understand', 'VBP'),\n ('American', 'NNP'),\n ('humor.', 'NN'),\n ('”', 'NNP'),\n ('Tesla', 'NNP'),\n ('quit', 'NN'),\n ('soon', 'RB'),\n ('after.Nikola', 'RB'),\n ('Tesla', 'NNP'),\n ('Westinghouse', 'NNP'),\n ('After', 'IN'),\n ('unsuccessful', 'JJ'),\n ('attempt', 'JJ'),\n ('start', 'NN'),\n ('Tesla', 'NNP'),\n ('Electric', 'NNP'),\n ('Light', 'NNP'),\n ('Company', 'NNP'),\n ('stint', 'NN'),\n ('digging', 'VBG'),\n ('ditches', 'NNS'),\n ('$', '$'),\n ('2', 'CD'),\n ('day', 'NN'),\n (',', ','),\n ('Tesla', 'NNP'),\n ('found', 'VBD'),\n ('backers', 'NNS'),\n ('support', 'VBP'),\n ('research', 'NN'),\n ('alternating', 'VBG'),\n ('current', 'JJ'),\n ('.', '.'),\n ('In', 'IN'),\n ('1887', 'CD'),\n ('1888', 'CD'),\n ('granted', 'VBD'),\n ('30', 'CD'),\n ('patents', 'NNS'),\n ('inventions', 'NNS'),\n ('invited', 'VBD'),\n ('address', 'JJ'),\n ('American', 'NNP'),\n ('Institute', 'NNP'),\n ('Electrical', 'NNP'),\n ('Engineers', 'NNP'),\n ('work', 'NN'),\n ('.', '.'),\n ('His', 'PRP$'),\n ('lecture', 'NN'),\n ('caught', 'VBD'),\n ('attention', 'NN'),\n ('George', 'NNP'),\n ('Westinghouse', 'NNP'),\n (',', ','),\n ('inventor', 'NN'),\n ('launched', 'VBD'),\n ('first', 'RB'),\n ('AC', 'NNP'),\n ('power', 'NN'),\n ('system', 'NN'),\n ('near', 'IN'),\n ('Boston', 'NNP'),\n ('Edison', 'NNP'),\n ('’', 'NNP'),\n ('major', 'JJ'),\n ('competitor', 'NN'),\n ('“', 'NNP'),\n ('Battle', 'NNP'),\n ('Currents.', 'NNP'),\n ('”', 'NNP'),\n ('Scroll', 'NNP'),\n ('ContinueRecommended', 'NNP'),\n ('you1970Young', 'NN'),\n ('Lords', 'NNP'),\n ('occupy', 'NN'),\n ('Lincoln', 'NNP'),\n ('Hospital', 'NNP'),\n ('BronxWhat', 'NNP'),\n ('Was', 'NNP'),\n ('Life', 'NNP'),\n ('Like', 'IN'),\n ('Ancient', 'NNP'),\n ('Babylon', 'NNP'),\n ('?', '.'),\n ('7', 'CD'),\n ('Mysterious', 'JJ'),\n ('Mass', 'NNP'),\n ('Illnesses', 'VBZ'),\n ('That', 'DT'),\n ('Defied', 'NNP'),\n ('ExplanationWestinghouse', 'NNP'),\n ('hired', 'VBD'),\n ('Tesla', 'NNP'),\n (',', ','),\n ('licensed', 'VBD'),\n ('patents', 'NNS'),\n ('AC', 'NNP'),\n ('motor', 'NN'),\n ('gave', 'VBD'),\n ('lab', 'NN'),\n ('.', '.'),\n ('In', 'IN'),\n ('1890', 'CD'),\n ('Edison', 'NNP'),\n ('arranged', 'VBD'),\n ('convicted', 'VBN'),\n ('New', 'NNP'),\n ('York', 'NNP'),\n ('murderer', 'NN'),\n ('put', 'VBD'),\n ('death', 'NN'),\n ('AC-powered', 'NNP'),\n ('electric', 'JJ'),\n ('chair—a', 'NN'),\n ('stunt', 'NN'),\n ('designed', 'VBN'),\n ('show', 'VBP'),\n ('dangerous', 'JJ'),\n ('Westinghouse', 'NNP'),\n ('standard', 'NN'),\n ('could', 'MD'),\n ('be.Buoyed', 'VB'),\n ('Westinghouse', 'NNP'),\n ('’', 'NNP'),\n ('royalties', 'NNS'),\n (',', ','),\n ('Tesla', 'NNP'),\n ('struck', 'VBD'),\n ('.', '.'),\n ('But', 'CC'),\n ('Westinghouse', 'NNP'),\n ('soon', 'RB'),\n ('forced', 'VBD'),\n ('backers', 'NNS'),\n ('renegotiate', 'VBP'),\n ('contract', 'NN'),\n (',', ','),\n ('Tesla', 'NNP'),\n ('relinquishing', 'VBG'),\n ('royalty', 'NN'),\n ('rights.In', 'NN'),\n ('1890s', 'CD'),\n ('Tesla', 'NNP'),\n ('invented', 'VBD'),\n ('electric', 'JJ'),\n ('oscillators', 'NNS'),\n (',', ','),\n ('meters', 'NNS'),\n (',', ','),\n ('improved', 'VBN'),\n ('lights', 'NNS'),\n ('high-voltage', 'JJ'),\n ('transformer', 'NN'),\n ('known', 'VBN'),\n ('Tesla', 'NNP'),\n ('coil', 'NN'),\n ('.', '.'),\n ('He', 'PRP'),\n ('also', 'RB'),\n ('experimented', 'VBD'),\n ('X-rays', 'NNS'),\n (',', ','),\n ('gave', 'VBD'),\n ('short-range', 'JJ'),\n ('demonstrations', 'NNS'),\n ('radio', 'VBP'),\n ('communication', 'NN'),\n ('two', 'CD'),\n ('years', 'NNS'),\n ('Guglielmo', 'NNP'),\n ('Marconi', 'NNP'),\n ('piloted', 'VBD'),\n ('radio-controlled', 'JJ'),\n ('boat', 'NN'),\n ('around', 'IN'),\n ('pool', 'NN'),\n ('Madison', 'NNP'),\n ('Square', 'NNP'),\n ('Garden', 'NNP'),\n ('.', '.'),\n ('Together', 'RB'),\n (',', ','),\n ('Tesla', 'NNP'),\n ('Westinghouse', 'NNP'),\n ('lit', 'NN'),\n ('1893', 'CD'),\n ('World', 'NNP'),\n ('’', 'NNP'),\n ('Columbian', 'NNP'),\n ('Exposition', 'NNP'),\n ('Chicago', 'NNP'),\n ('partnered', 'VBD'),\n ('General', 'NNP'),\n ('Electric', 'NNP'),\n ('install', 'NN'),\n ('AC', 'NNP'),\n ('generators', 'NNS'),\n ('Niagara', 'NNP'),\n ('Falls', 'NNP'),\n (',', ','),\n ('creating', 'VBG'),\n ('first', 'JJ'),\n ('modern', 'JJ'),\n ('power', 'NN'),\n ('station.Nikola', 'NN'),\n ('Tesla', 'NNP'),\n ('’', 'NNP'),\n ('Failures', 'NNP'),\n (',', ','),\n ('Death', 'NNP'),\n ('Legacy', 'NNP'),\n ('In', 'IN'),\n ('1895', 'CD'),\n ('Tesla', 'NNP'),\n ('’', 'NNP'),\n ('New', 'NNP'),\n ('York', 'NNP'),\n ('lab', 'NN'),\n ('burned', 'VBD'),\n (',', ','),\n ('destroying', 'VBG'),\n ('years', 'NNS'),\n ('’', 'RB'),\n ('worth', 'JJ'),\n ('notes', 'NNS'),\n ('equipment', 'NN'),\n ('.', '.'),\n ('Tesla', 'NNP'),\n ('relocated', 'VBD'),\n ('Colorado', 'NNP'),\n ('Springs', 'NNP'),\n ('two', 'CD'),\n ('years', 'NNS'),\n (',', ','),\n ('returning', 'VBG'),\n ('New', 'NNP'),\n ('York', 'NNP'),\n ('1900', 'CD'),\n ('.', '.'),\n ('He', 'PRP'),\n ('secured', 'VBD'),\n ('backing', 'VBG'),\n ('financier', 'NN'),\n ('J.P.', 'NNP'),\n ('Morgan', 'NNP'),\n ('began', 'VBD'),\n ('building', 'VBG'),\n ('global', 'JJ'),\n ('communications', 'NNS'),\n ('network', 'NN'),\n ('centered', 'VBD'),\n ('giant', 'JJ'),\n ('tower', 'NN'),\n ('Wardenclyffe', 'NNP'),\n (',', ','),\n ('Long', 'NNP'),\n ('Island', 'NNP'),\n ('.', '.'),\n ('But', 'CC'),\n ('funds', 'NNS'),\n ('ran', 'VBD'),\n ('Morgan', 'NNP'),\n ('balked', 'VBD'),\n ('Tesla', 'NNP'),\n ('’', 'NNP'),\n ('grandiose', 'VBD'),\n ('schemes.Tesla', 'NNS'),\n ('lived', 'VBD'),\n ('last', 'JJ'),\n ('decades', 'JJ'),\n ('New', 'NNP'),\n ('York', 'NNP'),\n ('hotel', 'NN'),\n (',', ','),\n ('working', 'VBG'),\n ('new', 'JJ'),\n ('inventions', 'NNS'),\n ('even', 'RB'),\n ('energy', 'NN'),\n ('mental', 'JJ'),\n ('health', 'NN'),\n ('faded', 'VBD'),\n ('.', '.'),\n ('His', 'PRP$'),\n ('obsession', 'NN'),\n ('number', 'NN'),\n ('three', 'CD'),\n ('fastidious', 'JJ'),\n ('washing', 'VBG'),\n ('dismissed', 'JJ'),\n ('eccentricities', 'NNS'),\n ('genius', 'NN'),\n ('.', '.'),\n ('He', 'PRP'),\n ('spent', 'VBD'),\n ('final', 'JJ'),\n ('years', 'NNS'),\n ('feeding—and', 'VBP'),\n (',', ','),\n ('claimed', 'VBD'),\n (',', ','),\n ('communicating', 'VBG'),\n ('with—the', 'JJ'),\n ('city', 'NN'),\n ('’', 'NNP'),\n ('pigeons.Tesla', 'NN'),\n ('died', 'VBD'),\n ('room', 'NN'),\n ('January', 'NNP'),\n ('7', 'CD'),\n (',', ','),\n ('1943', 'CD'),\n ('.', '.'),\n ('Later', 'JJ'),\n ('year', 'NN'),\n ('U.S.', 'NNP'),\n ('Supreme', 'NNP'),\n ('Court', 'NNP'),\n ('voided', 'VBD'),\n ('four', 'CD'),\n ('Marconi', 'NNP'),\n ('’', 'NNP'),\n ('key', 'JJ'),\n ('patents', 'NNS'),\n (',', ','),\n ('belatedly', 'RB'),\n ('acknowledging', 'VBG'),\n ('Tesla', 'NNP'),\n ('’', 'NNP'),\n ('innovations', 'NNS'),\n ('radio', 'NN'),\n ('.', '.'),\n ('The', 'DT'),\n ('AC', 'NNP'),\n ('system', 'NN'),\n ('championed', 'VBD'),\n ('improved', 'JJ'),\n ('remains', 'NNS'),\n ('global', 'JJ'),\n ('standard', 'JJ'),\n ('power', 'NN'),\n ('transmission', 'NN'),\n ('.', '.')]"
     },
     "execution_count": 35,
     "metadata": {},
     "output_type": "execute_result"
    }
   ],
   "source": [
    "import nltk\n",
    "\n",
    "nltk.pos_tag(filtered_words)"
   ],
   "metadata": {
    "collapsed": false,
    "pycharm": {
     "name": "#%%\n"
    }
   }
  },
  {
   "cell_type": "markdown",
   "source": [
    "All the words in the quote are now in a separate tuple, with a tag that represents their part of speech. But what do the tags mean? Here’s how to get a list of tags and their meanings:"
   ],
   "metadata": {
    "collapsed": false,
    "pycharm": {
     "name": "#%% md\n"
    }
   }
  },
  {
   "cell_type": "code",
   "execution_count": 38,
   "outputs": [
    {
     "name": "stdout",
     "output_type": "stream",
     "text": [
      "$: dollar\n",
      "    $ -$ --$ A$ C$ HK$ M$ NZ$ S$ U.S.$ US$\n",
      "'': closing quotation mark\n",
      "    ' ''\n",
      "(: opening parenthesis\n",
      "    ( [ {\n",
      "): closing parenthesis\n",
      "    ) ] }\n",
      ",: comma\n",
      "    ,\n",
      "--: dash\n",
      "    --\n",
      ".: sentence terminator\n",
      "    . ! ?\n",
      ":: colon or ellipsis\n",
      "    : ; ...\n",
      "CC: conjunction, coordinating\n",
      "    & 'n and both but either et for less minus neither nor or plus so\n",
      "    therefore times v. versus vs. whether yet\n",
      "CD: numeral, cardinal\n",
      "    mid-1890 nine-thirty forty-two one-tenth ten million 0.5 one forty-\n",
      "    seven 1987 twenty '79 zero two 78-degrees eighty-four IX '60s .025\n",
      "    fifteen 271,124 dozen quintillion DM2,000 ...\n",
      "DT: determiner\n",
      "    all an another any both del each either every half la many much nary\n",
      "    neither no some such that the them these this those\n",
      "EX: existential there\n",
      "    there\n",
      "FW: foreign word\n",
      "    gemeinschaft hund ich jeux habeas Haementeria Herr K'ang-si vous\n",
      "    lutihaw alai je jour objets salutaris fille quibusdam pas trop Monte\n",
      "    terram fiche oui corporis ...\n",
      "IN: preposition or conjunction, subordinating\n",
      "    astride among uppon whether out inside pro despite on by throughout\n",
      "    below within for towards near behind atop around if like until below\n",
      "    next into if beside ...\n",
      "JJ: adjective or numeral, ordinal\n",
      "    third ill-mannered pre-war regrettable oiled calamitous first separable\n",
      "    ectoplasmic battery-powered participatory fourth still-to-be-named\n",
      "    multilingual multi-disciplinary ...\n",
      "JJR: adjective, comparative\n",
      "    bleaker braver breezier briefer brighter brisker broader bumper busier\n",
      "    calmer cheaper choosier cleaner clearer closer colder commoner costlier\n",
      "    cozier creamier crunchier cuter ...\n",
      "JJS: adjective, superlative\n",
      "    calmest cheapest choicest classiest cleanest clearest closest commonest\n",
      "    corniest costliest crassest creepiest crudest cutest darkest deadliest\n",
      "    dearest deepest densest dinkiest ...\n",
      "LS: list item marker\n",
      "    A A. B B. C C. D E F First G H I J K One SP-44001 SP-44002 SP-44005\n",
      "    SP-44007 Second Third Three Two * a b c d first five four one six three\n",
      "    two\n",
      "MD: modal auxiliary\n",
      "    can cannot could couldn't dare may might must need ought shall should\n",
      "    shouldn't will would\n",
      "NN: noun, common, singular or mass\n",
      "    common-carrier cabbage knuckle-duster Casino afghan shed thermostat\n",
      "    investment slide humour falloff slick wind hyena override subhumanity\n",
      "    machinist ...\n",
      "NNP: noun, proper, singular\n",
      "    Motown Venneboerger Czestochwa Ranzer Conchita Trumplane Christos\n",
      "    Oceanside Escobar Kreisler Sawyer Cougar Yvette Ervin ODI Darryl CTCA\n",
      "    Shannon A.K.C. Meltex Liverpool ...\n",
      "NNPS: noun, proper, plural\n",
      "    Americans Americas Amharas Amityvilles Amusements Anarcho-Syndicalists\n",
      "    Andalusians Andes Andruses Angels Animals Anthony Antilles Antiques\n",
      "    Apache Apaches Apocrypha ...\n",
      "NNS: noun, common, plural\n",
      "    undergraduates scotches bric-a-brac products bodyguards facets coasts\n",
      "    divestitures storehouses designs clubs fragrances averages\n",
      "    subjectivists apprehensions muses factory-jobs ...\n",
      "PDT: pre-determiner\n",
      "    all both half many quite such sure this\n",
      "POS: genitive marker\n",
      "    ' 's\n",
      "PRP: pronoun, personal\n",
      "    hers herself him himself hisself it itself me myself one oneself ours\n",
      "    ourselves ownself self she thee theirs them themselves they thou thy us\n",
      "PRP$: pronoun, possessive\n",
      "    her his mine my our ours their thy your\n",
      "RB: adverb\n",
      "    occasionally unabatingly maddeningly adventurously professedly\n",
      "    stirringly prominently technologically magisterially predominately\n",
      "    swiftly fiscally pitilessly ...\n",
      "RBR: adverb, comparative\n",
      "    further gloomier grander graver greater grimmer harder harsher\n",
      "    healthier heavier higher however larger later leaner lengthier less-\n",
      "    perfectly lesser lonelier longer louder lower more ...\n",
      "RBS: adverb, superlative\n",
      "    best biggest bluntest earliest farthest first furthest hardest\n",
      "    heartiest highest largest least less most nearest second tightest worst\n",
      "RP: particle\n",
      "    aboard about across along apart around aside at away back before behind\n",
      "    by crop down ever fast for forth from go high i.e. in into just later\n",
      "    low more off on open out over per pie raising start teeth that through\n",
      "    under unto up up-pp upon whole with you\n",
      "SYM: symbol\n",
      "    % & ' '' ''. ) ). * + ,. < = > @ A[fj] U.S U.S.S.R * ** ***\n",
      "TO: \"to\" as preposition or infinitive marker\n",
      "    to\n",
      "UH: interjection\n",
      "    Goodbye Goody Gosh Wow Jeepers Jee-sus Hubba Hey Kee-reist Oops amen\n",
      "    huh howdy uh dammit whammo shucks heck anyways whodunnit honey golly\n",
      "    man baby diddle hush sonuvabitch ...\n",
      "VB: verb, base form\n",
      "    ask assemble assess assign assume atone attention avoid bake balkanize\n",
      "    bank begin behold believe bend benefit bevel beware bless boil bomb\n",
      "    boost brace break bring broil brush build ...\n",
      "VBD: verb, past tense\n",
      "    dipped pleaded swiped regummed soaked tidied convened halted registered\n",
      "    cushioned exacted snubbed strode aimed adopted belied figgered\n",
      "    speculated wore appreciated contemplated ...\n",
      "VBG: verb, present participle or gerund\n",
      "    telegraphing stirring focusing angering judging stalling lactating\n",
      "    hankerin' alleging veering capping approaching traveling besieging\n",
      "    encrypting interrupting erasing wincing ...\n",
      "VBN: verb, past participle\n",
      "    multihulled dilapidated aerosolized chaired languished panelized used\n",
      "    experimented flourished imitated reunifed factored condensed sheared\n",
      "    unsettled primed dubbed desired ...\n",
      "VBP: verb, present tense, not 3rd person singular\n",
      "    predominate wrap resort sue twist spill cure lengthen brush terminate\n",
      "    appear tend stray glisten obtain comprise detest tease attract\n",
      "    emphasize mold postpone sever return wag ...\n",
      "VBZ: verb, present tense, 3rd person singular\n",
      "    bases reconstructs marks mixes displeases seals carps weaves snatches\n",
      "    slumps stretches authorizes smolders pictures emerges stockpiles\n",
      "    seduces fizzes uses bolsters slaps speaks pleads ...\n",
      "WDT: WH-determiner\n",
      "    that what whatever which whichever\n",
      "WP: WH-pronoun\n",
      "    that what whatever whatsoever which who whom whosoever\n",
      "WP$: WH-pronoun, possessive\n",
      "    whose\n",
      "WRB: Wh-adverb\n",
      "    how however whence whenever where whereby whereever wherein whereof why\n",
      "``: opening quotation mark\n",
      "    ` ``\n"
     ]
    }
   ],
   "source": [
    "nltk.help.upenn_tagset()"
   ],
   "metadata": {
    "collapsed": false,
    "pycharm": {
     "name": "#%%\n"
    }
   }
  },
  {
   "cell_type": "markdown",
   "source": [
    "## Lemmatizing\n",
    "\n",
    "Now that you’re up to speed on parts of speech, you can circle back to lemmatizing. Like stemming, lemmatizing reduces words to their core meaning, but it will give you a complete English word that makes sense on its own instead of just a fragment of a word like 'discoveri'.\n",
    "\n",
    "**Note:** A lemma is a word that represents a whole group of words, and that group of words is called a lexeme.\n",
    "\n",
    "For example, if you were to look up the word “blending” in a dictionary, then you’d need to look at the entry for “blend,” but you would find “blending” listed in that entry.\n",
    "\n",
    "In this example, “blend” is the lemma, and “blending” is part of the lexeme. So when you lemmatize a word, you are reducing it to its lemma.\n",
    "\n",
    "Here’s how to import the relevant parts of NLTK in order to start lemmatizing"
   ],
   "metadata": {
    "collapsed": false,
    "pycharm": {
     "name": "#%% md\n"
    }
   }
  },
  {
   "cell_type": "code",
   "execution_count": 41,
   "outputs": [
    {
     "name": "stderr",
     "output_type": "stream",
     "text": [
      "[nltk_data] Downloading package omw-1.4 to\n",
      "[nltk_data]     C:\\Users\\HP\\AppData\\Roaming\\nltk_data...\n"
     ]
    },
    {
     "data": {
      "text/plain": "'breeding'"
     },
     "execution_count": 41,
     "metadata": {},
     "output_type": "execute_result"
    }
   ],
   "source": [
    "from nltk.stem import WordNetLemmatizer\n",
    "\n",
    "lemmatizer = WordNetLemmatizer()\n",
    "nltk.download('omw-1.4')\n",
    "lemmatizer.lemmatize(\"breeding\")"
   ],
   "metadata": {
    "collapsed": false,
    "pycharm": {
     "name": "#%%\n"
    }
   }
  }
 ],
 "metadata": {
  "kernelspec": {
   "display_name": "Python 3",
   "language": "python",
   "name": "python3"
  },
  "language_info": {
   "codemirror_mode": {
    "name": "ipython",
    "version": 2
   },
   "file_extension": ".py",
   "mimetype": "text/x-python",
   "name": "python",
   "nbconvert_exporter": "python",
   "pygments_lexer": "ipython2",
   "version": "2.7.6"
  }
 },
 "nbformat": 4,
 "nbformat_minor": 0
}