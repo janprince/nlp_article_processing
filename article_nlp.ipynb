{
 "cells": [
  {
   "cell_type": "markdown",
   "source": [
    "## Getting Human Language Data"
   ],
   "metadata": {
    "collapsed": false,
    "pycharm": {
     "name": "#%% md\n"
    }
   }
  },
  {
   "cell_type": "markdown",
   "source": [
    "Here, we use an article on Nikola Tesla from history.com"
   ],
   "metadata": {
    "collapsed": false,
    "pycharm": {
     "name": "#%% md\n"
    }
   }
  },
  {
   "cell_type": "code",
   "execution_count": null,
   "outputs": [],
   "source": [
    "import requests\n",
    "from bs4 import BeautifulSoup\n",
    "\n",
    "def request():\n",
    "    url = \"https://www.history.com/topics/inventions/nikola-tesla\"\n",
    "    r = requests.get(url)\n",
    "    text = r.text\n",
    "\n",
    "    # create a beautiful soup object\n",
    "    soup = BeautifulSoup(text, \"html.parser\")\n",
    "\n",
    "    return soup\n"
   ],
   "metadata": {
    "collapsed": false,
    "pycharm": {
     "name": "#%%\n"
    }
   }
  },
  {
   "cell_type": "code",
   "execution_count": 11,
   "outputs": [
    {
     "name": "stdout",
     "output_type": "stream",
     "text": [
      "('Nikola Tesla', 'Serbian-American engineer and physicist Nikola Tesla (1856-1943) made dozens of breakthroughs in the production, transmission and application of electric power. He invented the first alternating current (AC) motor and developed AC generation and transmission technology. Though he was famous and respected, he was never able to translate his copious inventions into long-term financial success—unlike his early employer and chief rival, Thomas Edison.Nikola Tesla’s Early Years     Nikola Tesla was born in 1856 in Smiljan, Croatia, then part of the Austro-Hungarian Empire. His father was a priest in the Serbian Orthodox church and his mother managed the family’s farm. In 1863 Tesla’s brother Daniel was killed in a riding accident. The shock of the loss unsettled the 7-year-old Tesla, who reported seeing visions—the first signs of his lifelong mental illnesses.Did you know? During the 1890s Mark Twain struck up a friendship with inventor Nikola Tesla. Twain often visited him in his lab, where in 1894 Tesla photographed the great American writer in one of the first pictures ever lit by phosphorescent light.Tesla studied math and physics at the Technical University of Graz and philosophy at the University of Prague. In 1882, while on a walk, he came up with the idea for a brushless AC motor, making the first sketches of its rotating electromagnets in the sand of the path. Later that year he moved to Paris and got a job repairing direct current (DC) power plants with the Continental Edison Company. Two years later he immigrated to the United States.Nikola Tesla and Thomas Edison     Tesla arrived in New York in 1884 and was hired as an engineer at Thomas Edison’s Manhattan headquarters. He worked there for a year, impressing Edison with his diligence and ingenuity. At one point Edison told Tesla he would pay $50,000 for an improved design for his DC dynamos. After months of experimentation, Tesla presented a solution and asked for the money. Edison demurred, saying, “Tesla, you don’t understand our American humor.” Tesla quit soon after.Nikola Tesla and Westinghouse     After an unsuccessful attempt to start his own Tesla Electric Light Company and a stint digging ditches for $2 a day, Tesla found backers to support his research into alternating current. In 1887 and 1888 he was granted more than 30 patents for his inventions and invited to address the American Institute of Electrical Engineers on his work. His lecture caught the attention of George Westinghouse, the inventor who had launched the first AC power system near Boston and was Edison’s major competitor in the “Battle of the Currents.”Scroll to ContinueRecommended for you1970Young Lords occupy Lincoln Hospital in the BronxWhat Was Life Like in Ancient Babylon?7 Mysterious Mass Illnesses That Defied ExplanationWestinghouse hired Tesla, licensed the patents for his AC motor and gave him his own lab. In 1890 Edison arranged for a convicted New York murderer to be put to death in an AC-powered electric chair—a stunt designed to show how dangerous the Westinghouse standard could be.Buoyed by Westinghouse’s royalties, Tesla struck out on his own again. But Westinghouse was soon forced by his backers to renegotiate their contract, with Tesla relinquishing his royalty rights.In the 1890s Tesla invented electric oscillators, meters, improved lights and the high-voltage transformer known as the Tesla coil. He also experimented with X-rays, gave short-range demonstrations of radio communication two years before Guglielmo Marconi and piloted a radio-controlled boat around a pool in Madison Square Garden. Together, Tesla and Westinghouse lit the 1893 World’s Columbian Exposition in Chicago and partnered with General Electric to install AC generators at Niagara Falls, creating the first modern power station.Nikola Tesla’s Failures, Death and Legacy     In 1895 Tesla’s New York lab burned, destroying years’ worth of notes and equipment. Tesla relocated to Colorado Springs for two years, returning to New York in 1900. He secured backing from financier J.P. Morgan and began building a global communications network centered on a giant tower at Wardenclyffe, on Long Island. But funds ran out and Morgan balked at Tesla’s grandiose schemes.Tesla lived his last decades in a New York hotel, working on new inventions even as his energy and mental health faded. His obsession with the number three and fastidious washing were dismissed as the eccentricities of genius. He spent his final years feeding—and, he claimed, communicating with—the city’s pigeons.Tesla died in his room on January 7, 1943. Later that year the U.S. Supreme Court voided four of Marconi’s key patents, belatedly acknowledging Tesla’s innovations in radio. The AC system he championed and improved remains the global standard for power transmission.')\n"
     ]
    }
   ],
   "source": [
    "def scrape_info(soup):\n",
    "    \"\"\"\n",
    "    :param soup: Beautiful soup object\n",
    "    :return:\n",
    "    \"\"\"\n",
    "    article_title = soup.find(\"h1\", class_=\"m-detail-header--title\")\n",
    "    article_title = article_title.text\n",
    "\n",
    "    article_body = soup.find(\"div\", class_=\"m-detail--body\")\n",
    "    article_body.find(\"aside\").decompose()\n",
    "    article_body = article_body.text\n",
    "\n",
    "    return article_title, article_body\n",
    "\n",
    "print(scrape_info(request()))"
   ],
   "metadata": {
    "collapsed": false,
    "pycharm": {
     "name": "#%%\n"
    }
   }
  },
  {
   "cell_type": "code",
   "execution_count": 21,
   "outputs": [
    {
     "name": "stderr",
     "output_type": "stream",
     "text": [
      "[nltk_data] Downloading package stopwords to\n",
      "[nltk_data]     C:\\Users\\HP\\AppData\\Roaming\\nltk_data...\n",
      "[nltk_data]   Unzipping corpora\\stopwords.zip.\n"
     ]
    },
    {
     "data": {
      "text/plain": "True"
     },
     "execution_count": 21,
     "metadata": {},
     "output_type": "execute_result"
    }
   ],
   "source": [
    "import nltk\n",
    "nltk.download('stopwords')"
   ],
   "metadata": {
    "collapsed": false,
    "pycharm": {
     "name": "#%%\n"
    }
   }
  },
  {
   "cell_type": "markdown",
   "source": [
    "## Tokenizing"
   ],
   "metadata": {
    "collapsed": false,
    "pycharm": {
     "name": "#%% md\n"
    }
   }
  },
  {
   "cell_type": "code",
   "execution_count": 28,
   "outputs": [],
   "source": [
    "from nltk.tokenize import sent_tokenize, word_tokenize\n",
    "\n",
    "# Get data\n",
    "title, article = scrape_info(request())\n",
    "\n",
    "# sent_tokenize() to split up article into sentences:\n",
    "sentences = sent_tokenize(article)\n",
    "\n",
    "# tokenizing by word\n",
    "article_words = word_tokenize(article)"
   ],
   "metadata": {
    "collapsed": false,
    "pycharm": {
     "name": "#%%\n"
    }
   }
  },
  {
   "cell_type": "code",
   "execution_count": 20,
   "outputs": [
    {
     "data": {
      "text/plain": "['Serbian-American engineer and physicist Nikola Tesla (1856-1943) made dozens of breakthroughs in the production, transmission and application of electric power.',\n 'He invented the first alternating current (AC) motor and developed AC generation and transmission technology.',\n 'Though he was famous and respected, he was never able to translate his copious inventions into long-term financial success—unlike his early employer and chief rival, Thomas Edison.Nikola Tesla’s Early Years     Nikola Tesla was born in 1856 in Smiljan, Croatia, then part of the Austro-Hungarian Empire.',\n 'His father was a priest in the Serbian Orthodox church and his mother managed the family’s farm.',\n 'In 1863 Tesla’s brother Daniel was killed in a riding accident.',\n 'The shock of the loss unsettled the 7-year-old Tesla, who reported seeing visions—the first signs of his lifelong mental illnesses.Did you know?',\n 'During the 1890s Mark Twain struck up a friendship with inventor Nikola Tesla.',\n 'Twain often visited him in his lab, where in 1894 Tesla photographed the great American writer in one of the first pictures ever lit by phosphorescent light.Tesla studied math and physics at the Technical University of Graz and philosophy at the University of Prague.',\n 'In 1882, while on a walk, he came up with the idea for a brushless AC motor, making the first sketches of its rotating electromagnets in the sand of the path.',\n 'Later that year he moved to Paris and got a job repairing direct current (DC) power plants with the Continental Edison Company.',\n 'Two years later he immigrated to the United States.Nikola Tesla and Thomas Edison     Tesla arrived in New York in 1884 and was hired as an engineer at Thomas Edison’s Manhattan headquarters.',\n 'He worked there for a year, impressing Edison with his diligence and ingenuity.',\n 'At one point Edison told Tesla he would pay $50,000 for an improved design for his DC dynamos.',\n 'After months of experimentation, Tesla presented a solution and asked for the money.',\n 'Edison demurred, saying, “Tesla, you don’t understand our American humor.” Tesla quit soon after.Nikola Tesla and Westinghouse     After an unsuccessful attempt to start his own Tesla Electric Light Company and a stint digging ditches for $2 a day, Tesla found backers to support his research into alternating current.',\n 'In 1887 and 1888 he was granted more than 30 patents for his inventions and invited to address the American Institute of Electrical Engineers on his work.',\n 'His lecture caught the attention of George Westinghouse, the inventor who had launched the first AC power system near Boston and was Edison’s major competitor in the “Battle of the Currents.”Scroll to ContinueRecommended for you1970Young Lords occupy Lincoln Hospital in the BronxWhat Was Life Like in Ancient Babylon?7 Mysterious Mass Illnesses That Defied ExplanationWestinghouse hired Tesla, licensed the patents for his AC motor and gave him his own lab.',\n 'In 1890 Edison arranged for a convicted New York murderer to be put to death in an AC-powered electric chair—a stunt designed to show how dangerous the Westinghouse standard could be.Buoyed by Westinghouse’s royalties, Tesla struck out on his own again.',\n 'But Westinghouse was soon forced by his backers to renegotiate their contract, with Tesla relinquishing his royalty rights.In the 1890s Tesla invented electric oscillators, meters, improved lights and the high-voltage transformer known as the Tesla coil.',\n 'He also experimented with X-rays, gave short-range demonstrations of radio communication two years before Guglielmo Marconi and piloted a radio-controlled boat around a pool in Madison Square Garden.',\n 'Together, Tesla and Westinghouse lit the 1893 World’s Columbian Exposition in Chicago and partnered with General Electric to install AC generators at Niagara Falls, creating the first modern power station.Nikola Tesla’s Failures, Death and Legacy     In 1895 Tesla’s New York lab burned, destroying years’ worth of notes and equipment.',\n 'Tesla relocated to Colorado Springs for two years, returning to New York in 1900.',\n 'He secured backing from financier J.P. Morgan and began building a global communications network centered on a giant tower at Wardenclyffe, on Long Island.',\n 'But funds ran out and Morgan balked at Tesla’s grandiose schemes.Tesla lived his last decades in a New York hotel, working on new inventions even as his energy and mental health faded.',\n 'His obsession with the number three and fastidious washing were dismissed as the eccentricities of genius.',\n 'He spent his final years feeding—and, he claimed, communicating with—the city’s pigeons.Tesla died in his room on January 7, 1943.',\n 'Later that year the U.S. Supreme Court voided four of Marconi’s key patents, belatedly acknowledging Tesla’s innovations in radio.',\n 'The AC system he championed and improved remains the global standard for power transmission.']"
     },
     "execution_count": 20,
     "metadata": {},
     "output_type": "execute_result"
    }
   ],
   "source": [
    "sentences"
   ],
   "metadata": {
    "collapsed": false,
    "pycharm": {
     "name": "#%%\n"
    }
   }
  },
  {
   "cell_type": "markdown",
   "source": [
    "## Filtering Stop Words\n",
    "Stop words are words that you want to ignore, so you filter them out of your text when you’re processing it. Very common words like 'in', 'is', and 'an' are often used as stop words since they don’t add a lot of meaning to a text in and of themselves."
   ],
   "metadata": {
    "collapsed": false,
    "pycharm": {
     "name": "#%% md\n"
    }
   }
  },
  {
   "cell_type": "code",
   "execution_count": 29,
   "outputs": [
    {
     "name": "stdout",
     "output_type": "stream",
     "text": [
      "['Serbian-American', 'engineer', 'physicist', 'Nikola', 'Tesla', '(', '1856-1943', ')', 'made', 'dozens', 'breakthroughs', 'production', ',', 'transmission', 'application', 'electric', 'power', '.', 'He', 'invented', 'first', 'alternating', 'current', '(', 'AC', ')', 'motor', 'developed', 'AC', 'generation', 'transmission', 'technology', '.', 'Though', 'famous', 'respected', ',', 'never', 'able', 'translate', 'copious', 'inventions', 'long-term', 'financial', 'success—unlike', 'early', 'employer', 'chief', 'rival', ',', 'Thomas', 'Edison.Nikola', 'Tesla', '’', 'Early', 'Years', 'Nikola', 'Tesla', 'born', '1856', 'Smiljan', ',', 'Croatia', ',', 'part', 'Austro-Hungarian', 'Empire', '.', 'His', 'father', 'priest', 'Serbian', 'Orthodox', 'church', 'mother', 'managed', 'family', '’', 'farm', '.', 'In', '1863', 'Tesla', '’', 'brother', 'Daniel', 'killed', 'riding', 'accident', '.', 'The', 'shock', 'loss', 'unsettled', '7-year-old', 'Tesla', ',', 'reported', 'seeing', 'visions—the', 'first', 'signs', 'lifelong', 'mental', 'illnesses.Did', 'know', '?', 'During', '1890s', 'Mark', 'Twain', 'struck', 'friendship', 'inventor', 'Nikola', 'Tesla', '.', 'Twain', 'often', 'visited', 'lab', ',', '1894', 'Tesla', 'photographed', 'great', 'American', 'writer', 'one', 'first', 'pictures', 'ever', 'lit', 'phosphorescent', 'light.Tesla', 'studied', 'math', 'physics', 'Technical', 'University', 'Graz', 'philosophy', 'University', 'Prague', '.', 'In', '1882', ',', 'walk', ',', 'came', 'idea', 'brushless', 'AC', 'motor', ',', 'making', 'first', 'sketches', 'rotating', 'electromagnets', 'sand', 'path', '.', 'Later', 'year', 'moved', 'Paris', 'got', 'job', 'repairing', 'direct', 'current', '(', 'DC', ')', 'power', 'plants', 'Continental', 'Edison', 'Company', '.', 'Two', 'years', 'later', 'immigrated', 'United', 'States.Nikola', 'Tesla', 'Thomas', 'Edison', 'Tesla', 'arrived', 'New', 'York', '1884', 'hired', 'engineer', 'Thomas', 'Edison', '’', 'Manhattan', 'headquarters', '.', 'He', 'worked', 'year', ',', 'impressing', 'Edison', 'diligence', 'ingenuity', '.', 'At', 'one', 'point', 'Edison', 'told', 'Tesla', 'would', 'pay', '$', '50,000', 'improved', 'design', 'DC', 'dynamos', '.', 'After', 'months', 'experimentation', ',', 'Tesla', 'presented', 'solution', 'asked', 'money', '.', 'Edison', 'demurred', ',', 'saying', ',', '“', 'Tesla', ',', '’', 'understand', 'American', 'humor.', '”', 'Tesla', 'quit', 'soon', 'after.Nikola', 'Tesla', 'Westinghouse', 'After', 'unsuccessful', 'attempt', 'start', 'Tesla', 'Electric', 'Light', 'Company', 'stint', 'digging', 'ditches', '$', '2', 'day', ',', 'Tesla', 'found', 'backers', 'support', 'research', 'alternating', 'current', '.', 'In', '1887', '1888', 'granted', '30', 'patents', 'inventions', 'invited', 'address', 'American', 'Institute', 'Electrical', 'Engineers', 'work', '.', 'His', 'lecture', 'caught', 'attention', 'George', 'Westinghouse', ',', 'inventor', 'launched', 'first', 'AC', 'power', 'system', 'near', 'Boston', 'Edison', '’', 'major', 'competitor', '“', 'Battle', 'Currents.', '”', 'Scroll', 'ContinueRecommended', 'you1970Young', 'Lords', 'occupy', 'Lincoln', 'Hospital', 'BronxWhat', 'Was', 'Life', 'Like', 'Ancient', 'Babylon', '?', '7', 'Mysterious', 'Mass', 'Illnesses', 'That', 'Defied', 'ExplanationWestinghouse', 'hired', 'Tesla', ',', 'licensed', 'patents', 'AC', 'motor', 'gave', 'lab', '.', 'In', '1890', 'Edison', 'arranged', 'convicted', 'New', 'York', 'murderer', 'put', 'death', 'AC-powered', 'electric', 'chair—a', 'stunt', 'designed', 'show', 'dangerous', 'Westinghouse', 'standard', 'could', 'be.Buoyed', 'Westinghouse', '’', 'royalties', ',', 'Tesla', 'struck', '.', 'But', 'Westinghouse', 'soon', 'forced', 'backers', 'renegotiate', 'contract', ',', 'Tesla', 'relinquishing', 'royalty', 'rights.In', '1890s', 'Tesla', 'invented', 'electric', 'oscillators', ',', 'meters', ',', 'improved', 'lights', 'high-voltage', 'transformer', 'known', 'Tesla', 'coil', '.', 'He', 'also', 'experimented', 'X-rays', ',', 'gave', 'short-range', 'demonstrations', 'radio', 'communication', 'two', 'years', 'Guglielmo', 'Marconi', 'piloted', 'radio-controlled', 'boat', 'around', 'pool', 'Madison', 'Square', 'Garden', '.', 'Together', ',', 'Tesla', 'Westinghouse', 'lit', '1893', 'World', '’', 'Columbian', 'Exposition', 'Chicago', 'partnered', 'General', 'Electric', 'install', 'AC', 'generators', 'Niagara', 'Falls', ',', 'creating', 'first', 'modern', 'power', 'station.Nikola', 'Tesla', '’', 'Failures', ',', 'Death', 'Legacy', 'In', '1895', 'Tesla', '’', 'New', 'York', 'lab', 'burned', ',', 'destroying', 'years', '’', 'worth', 'notes', 'equipment', '.', 'Tesla', 'relocated', 'Colorado', 'Springs', 'two', 'years', ',', 'returning', 'New', 'York', '1900', '.', 'He', 'secured', 'backing', 'financier', 'J.P.', 'Morgan', 'began', 'building', 'global', 'communications', 'network', 'centered', 'giant', 'tower', 'Wardenclyffe', ',', 'Long', 'Island', '.', 'But', 'funds', 'ran', 'Morgan', 'balked', 'Tesla', '’', 'grandiose', 'schemes.Tesla', 'lived', 'last', 'decades', 'New', 'York', 'hotel', ',', 'working', 'new', 'inventions', 'even', 'energy', 'mental', 'health', 'faded', '.', 'His', 'obsession', 'number', 'three', 'fastidious', 'washing', 'dismissed', 'eccentricities', 'genius', '.', 'He', 'spent', 'final', 'years', 'feeding—and', ',', 'claimed', ',', 'communicating', 'with—the', 'city', '’', 'pigeons.Tesla', 'died', 'room', 'January', '7', ',', '1943', '.', 'Later', 'year', 'U.S.', 'Supreme', 'Court', 'voided', 'four', 'Marconi', '’', 'key', 'patents', ',', 'belatedly', 'acknowledging', 'Tesla', '’', 'innovations', 'radio', '.', 'The', 'AC', 'system', 'championed', 'improved', 'remains', 'global', 'standard', 'power', 'transmission', '.']\n"
     ]
    }
   ],
   "source": [
    "from nltk.corpus import stopwords\n",
    "\n",
    "# a list of english stop words\n",
    "stop_words = stopwords.words(\"english\")\n",
    "\n",
    "# filter word tokens\n",
    "filtered_list = [word for word in article_words if word not in stop_words]\n",
    "print(filtered_list)"
   ],
   "metadata": {
    "collapsed": false,
    "pycharm": {
     "name": "#%%\n"
    }
   }
  },
  {
   "cell_type": "markdown",
   "source": [
    "## Stemming\n",
    "\n",
    "Stemming is a text processing task in which you reduce words to their root, which is the core part of a word. For example, the words “helping” and “helper” share the root “help.” Stemming allows you to zero in on the basic meaning of a word rather than all the details of how it’s being used. NLTK has more than one stemmer, but you’ll be using the Porter stemmer."
   ],
   "metadata": {
    "collapsed": false,
    "pycharm": {
     "name": "#%% md\n"
    }
   }
  },
  {
   "cell_type": "code",
   "execution_count": null,
   "outputs": [],
   "source": [
    "from nltk.stem import PorterStemmer\n",
    "\n",
    "# stemming object\n",
    "stemmer = PorterStemmer()\n"
   ],
   "metadata": {
    "collapsed": false,
    "pycharm": {
     "name": "#%%\n"
    }
   }
  }
 ],
 "metadata": {
  "kernelspec": {
   "display_name": "Python 3",
   "language": "python",
   "name": "python3"
  },
  "language_info": {
   "codemirror_mode": {
    "name": "ipython",
    "version": 2
   },
   "file_extension": ".py",
   "mimetype": "text/x-python",
   "name": "python",
   "nbconvert_exporter": "python",
   "pygments_lexer": "ipython2",
   "version": "2.7.6"
  }
 },
 "nbformat": 4,
 "nbformat_minor": 0
}